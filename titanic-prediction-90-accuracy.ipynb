{
 "cells": [
  {
   "cell_type": "markdown",
   "id": "800e8cb1",
   "metadata": {
    "papermill": {
     "duration": 0.080613,
     "end_time": "2021-09-25T16:45:20.124465",
     "exception": false,
     "start_time": "2021-09-25T16:45:20.043852",
     "status": "completed"
    },
    "tags": []
   },
   "source": [
    "<div style=\"color:#D81F26;\n",
    "           display:fill;\n",
    "           border-radius:30px;\n",
    "           border-style: solid;\n",
    "           border-color:#C1C1C1;\n",
    "           background-color:#373737;\n",
    "           font-size:30px;\n",
    "           font-family:Verdana;\n",
    "           letter-spacing:0.5px\">\n",
    "<h1 style=\"text-align: center;\n",
    "           padding: 15px;\n",
    "           color:#D81F26;\">\n",
    "🚢🛳 Titanic Prediction 🛳🚢\n",
    "</h1>\n",
    "</div>"
   ]
  },
  {
   "cell_type": "markdown",
   "id": "3afdbd26",
   "metadata": {
    "papermill": {
     "duration": 0.08217,
     "end_time": "2021-09-25T16:45:20.306206",
     "exception": false,
     "start_time": "2021-09-25T16:45:20.224036",
     "status": "completed"
    },
    "tags": []
   },
   "source": [
    "<img src=\"https://s4.uupload.ir/files/1161691_vh1b.jpg\" border=\"0\" alt=\"آپلود عکس\" />"
   ]
  },
  {
   "cell_type": "markdown",
   "id": "205a5fa3",
   "metadata": {
    "papermill": {
     "duration": 0.080251,
     "end_time": "2021-09-25T16:45:20.465896",
     "exception": false,
     "start_time": "2021-09-25T16:45:20.385645",
     "status": "completed"
    },
    "tags": []
   },
   "source": [
    "<div style=\"color: #D81F26;\n",
    "           display:fill;\n",
    "           border-radius:0px;\n",
    "           border-style: solid;\n",
    "           border-color:#C1C1C1;\n",
    "           background-color:#373737 ;\n",
    "           font-size:30px;\n",
    "           font-family:Verdana;\n",
    "           letter-spacing:0.5px;\">\n",
    "<h1 style=\"text-align: center;\n",
    "           padding: 15px;\n",
    "           color:#D81F26;\">\n",
    "Logistic Regression — Detailed Overview\n",
    "</h1>    \n",
    "<hr>\n",
    "\n",
    "<p style=\"color:white;\">Logistic Regression was used in the biological sciences in early twentieth century. It was then used in many social science applications. Logistic Regression is used when the dependent variable(target) is categorical.</p>\n",
    "\n",
    "<p style=\"color:white;\">For example:</p>\n",
    "\n",
    "<p style=\"color:white;\">1.To predict whether an email is spam (1) or (0)</p>\n",
    "\n",
    "<p style=\"color:white;\">2.Whether the tumor is malignant (1) or not (0)</p>\n",
    "    \n",
    "<p style=\"color:white;\">Consider a scenario where we need to classify whether an email is spam or not. If we use linear regression for this problem, there is a need for setting up a threshold based on which classification can be done. Say if the actual class is malignant, predicted continuous value 0.4 and the threshold value is 0.5, the data point will be classified as not malignant which can lead to serious consequence in real time.</p>\n",
    "\n",
    "<p style=\"color:white;\">From this example, it can be inferred that linear regression is not suitable for classification problem. Linear regression is unbounded, and this brings logistic regression into picture. Their value strictly ranges from 0 to 1.</p>\n",
    "\n",
    "Simple Logistic Regression\n",
    "\n",
    "<p style=\"color:white;\">Sigmoid Function</p>\n",
    "\n",
    "<img src=\"https://s4.uupload.ir/files/1_rqxfpingwdikbwyljc_e7g_4v5i.png\" border=\"2\" alt=\"آپلود عکس\"/>\n",
    "\n",
    "</div>"
   ]
  },
  {
   "cell_type": "markdown",
   "id": "85845ada",
   "metadata": {
    "papermill": {
     "duration": 0.089577,
     "end_time": "2021-09-25T16:45:20.634736",
     "exception": false,
     "start_time": "2021-09-25T16:45:20.545159",
     "status": "completed"
    },
    "tags": []
   },
   "source": [
    "<div style=\"color:#D81F26;\n",
    "           display:fill;\n",
    "           border-radius:5px;\n",
    "           background-color:#373737;\n",
    "           font-size:15px;\n",
    "           font-family:Verdana;\n",
    "           letter-spacing:0.5px\">\n",
    "<h1 style=\"text-align: center;\n",
    "           padding: 15px;\n",
    "           color:#D81F26;\">\n",
    "📤 Import Libraries\n",
    "</h1>\n",
    "</div>"
   ]
  },
  {
   "cell_type": "code",
   "execution_count": 1,
   "id": "eb17fdf9",
   "metadata": {
    "_cell_guid": "b1076dfc-b9ad-4769-8c92-a6c4dae69d19",
    "_uuid": "8f2839f25d086af736a60e9eeb907d3b93b6e0e5",
    "execution": {
     "iopub.execute_input": "2021-09-25T16:45:20.812342Z",
     "iopub.status.busy": "2021-09-25T16:45:20.811458Z",
     "iopub.status.idle": "2021-09-25T16:45:22.023308Z",
     "shell.execute_reply": "2021-09-25T16:45:22.022519Z",
     "shell.execute_reply.started": "2021-09-25T16:42:45.057435Z"
    },
    "papermill": {
     "duration": 1.306852,
     "end_time": "2021-09-25T16:45:22.023496",
     "exception": false,
     "start_time": "2021-09-25T16:45:20.716644",
     "status": "completed"
    },
    "tags": []
   },
   "outputs": [],
   "source": [
    "import pandas as pd\n",
    "import numpy as np\n",
    "import matplotlib.pyplot as plt\n",
    "import seaborn as sns\n",
    "\n",
    "from matplotlib import style\n",
    "\n",
    "from sklearn.preprocessing import StandardScaler\n",
    "\n",
    "from sklearn.linear_model import LogisticRegression\n",
    "\n",
    "from sklearn.metrics import accuracy_score, confusion_matrix, classification_report, plot_confusion_matrix, precision_score, recall_score\n",
    "\n",
    "from sklearn.metrics import precision_recall_curve, plot_precision_recall_curve, plot_roc_curve\n",
    "\n",
    "%matplotlib inline"
   ]
  },
  {
   "cell_type": "markdown",
   "id": "276cce4f",
   "metadata": {
    "papermill": {
     "duration": 0.09777,
     "end_time": "2021-09-25T16:45:22.199791",
     "exception": false,
     "start_time": "2021-09-25T16:45:22.102021",
     "status": "completed"
    },
    "tags": []
   },
   "source": [
    "<div style=\"color:#D81F26;\n",
    "           display:fill;\n",
    "           border-radius:10px;\n",
    "           border-style: solid;\n",
    "           border-color:#7F7F7F;\n",
    "           background-color:#373737;\n",
    "           font-size:15px;\n",
    "           font-family:Verdana;\n",
    "           letter-spacing:0.5px\">\n",
    "<h1 style=\"text-align: center;\n",
    "           padding: 10px;\n",
    "           color:#D81F26;\">\n",
    "Read Datasets\n",
    "</h1>\n",
    "</div>"
   ]
  },
  {
   "cell_type": "code",
   "execution_count": 2,
   "id": "da668d36",
   "metadata": {
    "execution": {
     "iopub.execute_input": "2021-09-25T16:45:22.376526Z",
     "iopub.status.busy": "2021-09-25T16:45:22.375717Z",
     "iopub.status.idle": "2021-09-25T16:45:22.415999Z",
     "shell.execute_reply": "2021-09-25T16:45:22.415376Z",
     "shell.execute_reply.started": "2021-09-25T16:42:46.574247Z"
    },
    "papermill": {
     "duration": 0.123912,
     "end_time": "2021-09-25T16:45:22.416191",
     "exception": false,
     "start_time": "2021-09-25T16:45:22.292279",
     "status": "completed"
    },
    "tags": []
   },
   "outputs": [],
   "source": [
    "df_train = pd.read_csv('../input/titanic/train.csv')\n",
    "\n",
    "df_test = pd.read_csv('../input/titanic/test.csv') \n",
    "\n",
    "df_y_test = pd.read_csv('../input/titanic/gender_submission.csv')"
   ]
  },
  {
   "cell_type": "code",
   "execution_count": 3,
   "id": "2b70bd04",
   "metadata": {
    "execution": {
     "iopub.execute_input": "2021-09-25T16:45:22.585140Z",
     "iopub.status.busy": "2021-09-25T16:45:22.582640Z",
     "iopub.status.idle": "2021-09-25T16:45:22.589791Z",
     "shell.execute_reply": "2021-09-25T16:45:22.589048Z",
     "shell.execute_reply.started": "2021-09-25T16:42:46.618570Z"
    },
    "papermill": {
     "duration": 0.094668,
     "end_time": "2021-09-25T16:45:22.589966",
     "exception": false,
     "start_time": "2021-09-25T16:45:22.495298",
     "status": "completed"
    },
    "tags": []
   },
   "outputs": [],
   "source": [
    "df_test['Survived'] = df_y_test['Survived']"
   ]
  },
  {
   "cell_type": "markdown",
   "id": "bcd4d1b3",
   "metadata": {
    "papermill": {
     "duration": 0.080466,
     "end_time": "2021-09-25T16:45:22.749495",
     "exception": false,
     "start_time": "2021-09-25T16:45:22.669029",
     "status": "completed"
    },
    "tags": []
   },
   "source": [
    "<div style=\"color:#D81F26;\n",
    "           display:fill;\n",
    "           border-radius:10px;\n",
    "           border-style: solid;\n",
    "           border-color:#7F7F7F;\n",
    "           background-color:#373737;\n",
    "           font-size:15px;\n",
    "           font-family:Verdana;\n",
    "           letter-spacing:0.5px\">\n",
    "<h1 style=\"text-align: center;\n",
    "           padding: 15px;\n",
    "           color:#D81F26;\">\n",
    "💾 Check out the Data\n",
    "</h1>\n",
    "</div>"
   ]
  },
  {
   "cell_type": "code",
   "execution_count": 4,
   "id": "6880b533",
   "metadata": {
    "execution": {
     "iopub.execute_input": "2021-09-25T16:45:22.910369Z",
     "iopub.status.busy": "2021-09-25T16:45:22.909603Z",
     "iopub.status.idle": "2021-09-25T16:45:22.937417Z",
     "shell.execute_reply": "2021-09-25T16:45:22.937967Z",
     "shell.execute_reply.started": "2021-09-25T16:42:46.635300Z"
    },
    "papermill": {
     "duration": 0.110456,
     "end_time": "2021-09-25T16:45:22.938199",
     "exception": false,
     "start_time": "2021-09-25T16:45:22.827743",
     "status": "completed"
    },
    "tags": []
   },
   "outputs": [
    {
     "data": {
      "text/html": [
       "<div>\n",
       "<style scoped>\n",
       "    .dataframe tbody tr th:only-of-type {\n",
       "        vertical-align: middle;\n",
       "    }\n",
       "\n",
       "    .dataframe tbody tr th {\n",
       "        vertical-align: top;\n",
       "    }\n",
       "\n",
       "    .dataframe thead th {\n",
       "        text-align: right;\n",
       "    }\n",
       "</style>\n",
       "<table border=\"1\" class=\"dataframe\">\n",
       "  <thead>\n",
       "    <tr style=\"text-align: right;\">\n",
       "      <th></th>\n",
       "      <th>PassengerId</th>\n",
       "      <th>Survived</th>\n",
       "      <th>Pclass</th>\n",
       "      <th>Name</th>\n",
       "      <th>Sex</th>\n",
       "      <th>Age</th>\n",
       "      <th>SibSp</th>\n",
       "      <th>Parch</th>\n",
       "      <th>Ticket</th>\n",
       "      <th>Fare</th>\n",
       "      <th>Cabin</th>\n",
       "      <th>Embarked</th>\n",
       "    </tr>\n",
       "  </thead>\n",
       "  <tbody>\n",
       "    <tr>\n",
       "      <th>0</th>\n",
       "      <td>1</td>\n",
       "      <td>0</td>\n",
       "      <td>3</td>\n",
       "      <td>Braund, Mr. Owen Harris</td>\n",
       "      <td>male</td>\n",
       "      <td>22.0</td>\n",
       "      <td>1</td>\n",
       "      <td>0</td>\n",
       "      <td>A/5 21171</td>\n",
       "      <td>7.2500</td>\n",
       "      <td>NaN</td>\n",
       "      <td>S</td>\n",
       "    </tr>\n",
       "    <tr>\n",
       "      <th>1</th>\n",
       "      <td>2</td>\n",
       "      <td>1</td>\n",
       "      <td>1</td>\n",
       "      <td>Cumings, Mrs. John Bradley (Florence Briggs Th...</td>\n",
       "      <td>female</td>\n",
       "      <td>38.0</td>\n",
       "      <td>1</td>\n",
       "      <td>0</td>\n",
       "      <td>PC 17599</td>\n",
       "      <td>71.2833</td>\n",
       "      <td>C85</td>\n",
       "      <td>C</td>\n",
       "    </tr>\n",
       "    <tr>\n",
       "      <th>2</th>\n",
       "      <td>3</td>\n",
       "      <td>1</td>\n",
       "      <td>3</td>\n",
       "      <td>Heikkinen, Miss. Laina</td>\n",
       "      <td>female</td>\n",
       "      <td>26.0</td>\n",
       "      <td>0</td>\n",
       "      <td>0</td>\n",
       "      <td>STON/O2. 3101282</td>\n",
       "      <td>7.9250</td>\n",
       "      <td>NaN</td>\n",
       "      <td>S</td>\n",
       "    </tr>\n",
       "    <tr>\n",
       "      <th>3</th>\n",
       "      <td>4</td>\n",
       "      <td>1</td>\n",
       "      <td>1</td>\n",
       "      <td>Futrelle, Mrs. Jacques Heath (Lily May Peel)</td>\n",
       "      <td>female</td>\n",
       "      <td>35.0</td>\n",
       "      <td>1</td>\n",
       "      <td>0</td>\n",
       "      <td>113803</td>\n",
       "      <td>53.1000</td>\n",
       "      <td>C123</td>\n",
       "      <td>S</td>\n",
       "    </tr>\n",
       "    <tr>\n",
       "      <th>4</th>\n",
       "      <td>5</td>\n",
       "      <td>0</td>\n",
       "      <td>3</td>\n",
       "      <td>Allen, Mr. William Henry</td>\n",
       "      <td>male</td>\n",
       "      <td>35.0</td>\n",
       "      <td>0</td>\n",
       "      <td>0</td>\n",
       "      <td>373450</td>\n",
       "      <td>8.0500</td>\n",
       "      <td>NaN</td>\n",
       "      <td>S</td>\n",
       "    </tr>\n",
       "    <tr>\n",
       "      <th>5</th>\n",
       "      <td>6</td>\n",
       "      <td>0</td>\n",
       "      <td>3</td>\n",
       "      <td>Moran, Mr. James</td>\n",
       "      <td>male</td>\n",
       "      <td>NaN</td>\n",
       "      <td>0</td>\n",
       "      <td>0</td>\n",
       "      <td>330877</td>\n",
       "      <td>8.4583</td>\n",
       "      <td>NaN</td>\n",
       "      <td>Q</td>\n",
       "    </tr>\n",
       "    <tr>\n",
       "      <th>6</th>\n",
       "      <td>7</td>\n",
       "      <td>0</td>\n",
       "      <td>1</td>\n",
       "      <td>McCarthy, Mr. Timothy J</td>\n",
       "      <td>male</td>\n",
       "      <td>54.0</td>\n",
       "      <td>0</td>\n",
       "      <td>0</td>\n",
       "      <td>17463</td>\n",
       "      <td>51.8625</td>\n",
       "      <td>E46</td>\n",
       "      <td>S</td>\n",
       "    </tr>\n",
       "    <tr>\n",
       "      <th>7</th>\n",
       "      <td>8</td>\n",
       "      <td>0</td>\n",
       "      <td>3</td>\n",
       "      <td>Palsson, Master. Gosta Leonard</td>\n",
       "      <td>male</td>\n",
       "      <td>2.0</td>\n",
       "      <td>3</td>\n",
       "      <td>1</td>\n",
       "      <td>349909</td>\n",
       "      <td>21.0750</td>\n",
       "      <td>NaN</td>\n",
       "      <td>S</td>\n",
       "    </tr>\n",
       "    <tr>\n",
       "      <th>8</th>\n",
       "      <td>9</td>\n",
       "      <td>1</td>\n",
       "      <td>3</td>\n",
       "      <td>Johnson, Mrs. Oscar W (Elisabeth Vilhelmina Berg)</td>\n",
       "      <td>female</td>\n",
       "      <td>27.0</td>\n",
       "      <td>0</td>\n",
       "      <td>2</td>\n",
       "      <td>347742</td>\n",
       "      <td>11.1333</td>\n",
       "      <td>NaN</td>\n",
       "      <td>S</td>\n",
       "    </tr>\n",
       "    <tr>\n",
       "      <th>9</th>\n",
       "      <td>10</td>\n",
       "      <td>1</td>\n",
       "      <td>2</td>\n",
       "      <td>Nasser, Mrs. Nicholas (Adele Achem)</td>\n",
       "      <td>female</td>\n",
       "      <td>14.0</td>\n",
       "      <td>1</td>\n",
       "      <td>0</td>\n",
       "      <td>237736</td>\n",
       "      <td>30.0708</td>\n",
       "      <td>NaN</td>\n",
       "      <td>C</td>\n",
       "    </tr>\n",
       "  </tbody>\n",
       "</table>\n",
       "</div>"
      ],
      "text/plain": [
       "   PassengerId  Survived  Pclass  \\\n",
       "0            1         0       3   \n",
       "1            2         1       1   \n",
       "2            3         1       3   \n",
       "3            4         1       1   \n",
       "4            5         0       3   \n",
       "5            6         0       3   \n",
       "6            7         0       1   \n",
       "7            8         0       3   \n",
       "8            9         1       3   \n",
       "9           10         1       2   \n",
       "\n",
       "                                                Name     Sex   Age  SibSp  \\\n",
       "0                            Braund, Mr. Owen Harris    male  22.0      1   \n",
       "1  Cumings, Mrs. John Bradley (Florence Briggs Th...  female  38.0      1   \n",
       "2                             Heikkinen, Miss. Laina  female  26.0      0   \n",
       "3       Futrelle, Mrs. Jacques Heath (Lily May Peel)  female  35.0      1   \n",
       "4                           Allen, Mr. William Henry    male  35.0      0   \n",
       "5                                   Moran, Mr. James    male   NaN      0   \n",
       "6                            McCarthy, Mr. Timothy J    male  54.0      0   \n",
       "7                     Palsson, Master. Gosta Leonard    male   2.0      3   \n",
       "8  Johnson, Mrs. Oscar W (Elisabeth Vilhelmina Berg)  female  27.0      0   \n",
       "9                Nasser, Mrs. Nicholas (Adele Achem)  female  14.0      1   \n",
       "\n",
       "   Parch            Ticket     Fare Cabin Embarked  \n",
       "0      0         A/5 21171   7.2500   NaN        S  \n",
       "1      0          PC 17599  71.2833   C85        C  \n",
       "2      0  STON/O2. 3101282   7.9250   NaN        S  \n",
       "3      0            113803  53.1000  C123        S  \n",
       "4      0            373450   8.0500   NaN        S  \n",
       "5      0            330877   8.4583   NaN        Q  \n",
       "6      0             17463  51.8625   E46        S  \n",
       "7      1            349909  21.0750   NaN        S  \n",
       "8      2            347742  11.1333   NaN        S  \n",
       "9      0            237736  30.0708   NaN        C  "
      ]
     },
     "execution_count": 4,
     "metadata": {},
     "output_type": "execute_result"
    }
   ],
   "source": [
    "df_train.head(10)"
   ]
  },
  {
   "cell_type": "code",
   "execution_count": 5,
   "id": "6f23c053",
   "metadata": {
    "execution": {
     "iopub.execute_input": "2021-09-25T16:45:23.103741Z",
     "iopub.status.busy": "2021-09-25T16:45:23.102989Z",
     "iopub.status.idle": "2021-09-25T16:45:23.122490Z",
     "shell.execute_reply": "2021-09-25T16:45:23.121890Z",
     "shell.execute_reply.started": "2021-09-25T16:42:46.671806Z"
    },
    "papermill": {
     "duration": 0.103007,
     "end_time": "2021-09-25T16:45:23.122667",
     "exception": false,
     "start_time": "2021-09-25T16:45:23.019660",
     "status": "completed"
    },
    "tags": []
   },
   "outputs": [
    {
     "data": {
      "text/html": [
       "<div>\n",
       "<style scoped>\n",
       "    .dataframe tbody tr th:only-of-type {\n",
       "        vertical-align: middle;\n",
       "    }\n",
       "\n",
       "    .dataframe tbody tr th {\n",
       "        vertical-align: top;\n",
       "    }\n",
       "\n",
       "    .dataframe thead th {\n",
       "        text-align: right;\n",
       "    }\n",
       "</style>\n",
       "<table border=\"1\" class=\"dataframe\">\n",
       "  <thead>\n",
       "    <tr style=\"text-align: right;\">\n",
       "      <th></th>\n",
       "      <th>PassengerId</th>\n",
       "      <th>Pclass</th>\n",
       "      <th>Name</th>\n",
       "      <th>Sex</th>\n",
       "      <th>Age</th>\n",
       "      <th>SibSp</th>\n",
       "      <th>Parch</th>\n",
       "      <th>Ticket</th>\n",
       "      <th>Fare</th>\n",
       "      <th>Cabin</th>\n",
       "      <th>Embarked</th>\n",
       "      <th>Survived</th>\n",
       "    </tr>\n",
       "  </thead>\n",
       "  <tbody>\n",
       "    <tr>\n",
       "      <th>0</th>\n",
       "      <td>892</td>\n",
       "      <td>3</td>\n",
       "      <td>Kelly, Mr. James</td>\n",
       "      <td>male</td>\n",
       "      <td>34.5</td>\n",
       "      <td>0</td>\n",
       "      <td>0</td>\n",
       "      <td>330911</td>\n",
       "      <td>7.8292</td>\n",
       "      <td>NaN</td>\n",
       "      <td>Q</td>\n",
       "      <td>0</td>\n",
       "    </tr>\n",
       "    <tr>\n",
       "      <th>1</th>\n",
       "      <td>893</td>\n",
       "      <td>3</td>\n",
       "      <td>Wilkes, Mrs. James (Ellen Needs)</td>\n",
       "      <td>female</td>\n",
       "      <td>47.0</td>\n",
       "      <td>1</td>\n",
       "      <td>0</td>\n",
       "      <td>363272</td>\n",
       "      <td>7.0000</td>\n",
       "      <td>NaN</td>\n",
       "      <td>S</td>\n",
       "      <td>1</td>\n",
       "    </tr>\n",
       "    <tr>\n",
       "      <th>2</th>\n",
       "      <td>894</td>\n",
       "      <td>2</td>\n",
       "      <td>Myles, Mr. Thomas Francis</td>\n",
       "      <td>male</td>\n",
       "      <td>62.0</td>\n",
       "      <td>0</td>\n",
       "      <td>0</td>\n",
       "      <td>240276</td>\n",
       "      <td>9.6875</td>\n",
       "      <td>NaN</td>\n",
       "      <td>Q</td>\n",
       "      <td>0</td>\n",
       "    </tr>\n",
       "    <tr>\n",
       "      <th>3</th>\n",
       "      <td>895</td>\n",
       "      <td>3</td>\n",
       "      <td>Wirz, Mr. Albert</td>\n",
       "      <td>male</td>\n",
       "      <td>27.0</td>\n",
       "      <td>0</td>\n",
       "      <td>0</td>\n",
       "      <td>315154</td>\n",
       "      <td>8.6625</td>\n",
       "      <td>NaN</td>\n",
       "      <td>S</td>\n",
       "      <td>0</td>\n",
       "    </tr>\n",
       "    <tr>\n",
       "      <th>4</th>\n",
       "      <td>896</td>\n",
       "      <td>3</td>\n",
       "      <td>Hirvonen, Mrs. Alexander (Helga E Lindqvist)</td>\n",
       "      <td>female</td>\n",
       "      <td>22.0</td>\n",
       "      <td>1</td>\n",
       "      <td>1</td>\n",
       "      <td>3101298</td>\n",
       "      <td>12.2875</td>\n",
       "      <td>NaN</td>\n",
       "      <td>S</td>\n",
       "      <td>1</td>\n",
       "    </tr>\n",
       "    <tr>\n",
       "      <th>5</th>\n",
       "      <td>897</td>\n",
       "      <td>3</td>\n",
       "      <td>Svensson, Mr. Johan Cervin</td>\n",
       "      <td>male</td>\n",
       "      <td>14.0</td>\n",
       "      <td>0</td>\n",
       "      <td>0</td>\n",
       "      <td>7538</td>\n",
       "      <td>9.2250</td>\n",
       "      <td>NaN</td>\n",
       "      <td>S</td>\n",
       "      <td>0</td>\n",
       "    </tr>\n",
       "    <tr>\n",
       "      <th>6</th>\n",
       "      <td>898</td>\n",
       "      <td>3</td>\n",
       "      <td>Connolly, Miss. Kate</td>\n",
       "      <td>female</td>\n",
       "      <td>30.0</td>\n",
       "      <td>0</td>\n",
       "      <td>0</td>\n",
       "      <td>330972</td>\n",
       "      <td>7.6292</td>\n",
       "      <td>NaN</td>\n",
       "      <td>Q</td>\n",
       "      <td>1</td>\n",
       "    </tr>\n",
       "    <tr>\n",
       "      <th>7</th>\n",
       "      <td>899</td>\n",
       "      <td>2</td>\n",
       "      <td>Caldwell, Mr. Albert Francis</td>\n",
       "      <td>male</td>\n",
       "      <td>26.0</td>\n",
       "      <td>1</td>\n",
       "      <td>1</td>\n",
       "      <td>248738</td>\n",
       "      <td>29.0000</td>\n",
       "      <td>NaN</td>\n",
       "      <td>S</td>\n",
       "      <td>0</td>\n",
       "    </tr>\n",
       "    <tr>\n",
       "      <th>8</th>\n",
       "      <td>900</td>\n",
       "      <td>3</td>\n",
       "      <td>Abrahim, Mrs. Joseph (Sophie Halaut Easu)</td>\n",
       "      <td>female</td>\n",
       "      <td>18.0</td>\n",
       "      <td>0</td>\n",
       "      <td>0</td>\n",
       "      <td>2657</td>\n",
       "      <td>7.2292</td>\n",
       "      <td>NaN</td>\n",
       "      <td>C</td>\n",
       "      <td>1</td>\n",
       "    </tr>\n",
       "    <tr>\n",
       "      <th>9</th>\n",
       "      <td>901</td>\n",
       "      <td>3</td>\n",
       "      <td>Davies, Mr. John Samuel</td>\n",
       "      <td>male</td>\n",
       "      <td>21.0</td>\n",
       "      <td>2</td>\n",
       "      <td>0</td>\n",
       "      <td>A/4 48871</td>\n",
       "      <td>24.1500</td>\n",
       "      <td>NaN</td>\n",
       "      <td>S</td>\n",
       "      <td>0</td>\n",
       "    </tr>\n",
       "  </tbody>\n",
       "</table>\n",
       "</div>"
      ],
      "text/plain": [
       "   PassengerId  Pclass                                          Name     Sex  \\\n",
       "0          892       3                              Kelly, Mr. James    male   \n",
       "1          893       3              Wilkes, Mrs. James (Ellen Needs)  female   \n",
       "2          894       2                     Myles, Mr. Thomas Francis    male   \n",
       "3          895       3                              Wirz, Mr. Albert    male   \n",
       "4          896       3  Hirvonen, Mrs. Alexander (Helga E Lindqvist)  female   \n",
       "5          897       3                    Svensson, Mr. Johan Cervin    male   \n",
       "6          898       3                          Connolly, Miss. Kate  female   \n",
       "7          899       2                  Caldwell, Mr. Albert Francis    male   \n",
       "8          900       3     Abrahim, Mrs. Joseph (Sophie Halaut Easu)  female   \n",
       "9          901       3                       Davies, Mr. John Samuel    male   \n",
       "\n",
       "    Age  SibSp  Parch     Ticket     Fare Cabin Embarked  Survived  \n",
       "0  34.5      0      0     330911   7.8292   NaN        Q         0  \n",
       "1  47.0      1      0     363272   7.0000   NaN        S         1  \n",
       "2  62.0      0      0     240276   9.6875   NaN        Q         0  \n",
       "3  27.0      0      0     315154   8.6625   NaN        S         0  \n",
       "4  22.0      1      1    3101298  12.2875   NaN        S         1  \n",
       "5  14.0      0      0       7538   9.2250   NaN        S         0  \n",
       "6  30.0      0      0     330972   7.6292   NaN        Q         1  \n",
       "7  26.0      1      1     248738  29.0000   NaN        S         0  \n",
       "8  18.0      0      0       2657   7.2292   NaN        C         1  \n",
       "9  21.0      2      0  A/4 48871  24.1500   NaN        S         0  "
      ]
     },
     "execution_count": 5,
     "metadata": {},
     "output_type": "execute_result"
    }
   ],
   "source": [
    "df_test.head(10)"
   ]
  },
  {
   "cell_type": "code",
   "execution_count": 6,
   "id": "f9e759be",
   "metadata": {
    "execution": {
     "iopub.execute_input": "2021-09-25T16:45:23.290969Z",
     "iopub.status.busy": "2021-09-25T16:45:23.290228Z",
     "iopub.status.idle": "2021-09-25T16:45:24.019761Z",
     "shell.execute_reply": "2021-09-25T16:45:24.019193Z",
     "shell.execute_reply.started": "2021-09-25T16:42:46.695616Z"
    },
    "papermill": {
     "duration": 0.817604,
     "end_time": "2021-09-25T16:45:24.019926",
     "exception": false,
     "start_time": "2021-09-25T16:45:23.202322",
     "status": "completed"
    },
    "tags": []
   },
   "outputs": [
    {
     "data": {
      "text/plain": [
       "<AxesSubplot:>"
      ]
     },
     "execution_count": 6,
     "metadata": {},
     "output_type": "execute_result"
    },
    {
     "data": {
      "image/png": "[encoded data removed]",
      "text/plain": [
       "<Figure size 432x288 with 2 Axes>"
      ]
     },
     "metadata": {
      "needs_background": "light"
     },
     "output_type": "display_data"
    }
   ],
   "source": [
    "sns.heatmap(df_train.corr(), annot=True,cmap='Reds')"
   ]
  },
  {
   "cell_type": "code",
   "execution_count": 7,
   "id": "207595d7",
   "metadata": {
    "execution": {
     "iopub.execute_input": "2021-09-25T16:45:24.209716Z",
     "iopub.status.busy": "2021-09-25T16:45:24.191729Z",
     "iopub.status.idle": "2021-09-25T16:45:25.081889Z",
     "shell.execute_reply": "2021-09-25T16:45:25.082455Z",
     "shell.execute_reply.started": "2021-09-25T16:42:47.412947Z"
    },
    "papermill": {
     "duration": 0.979327,
     "end_time": "2021-09-25T16:45:25.082670",
     "exception": false,
     "start_time": "2021-09-25T16:45:24.103343",
     "status": "completed"
    },
    "tags": []
   },
   "outputs": [
    {
     "data": {
      "text/plain": [
       "<AxesSubplot:>"
      ]
     },
     "execution_count": 7,
     "metadata": {},
     "output_type": "execute_result"
    },
    {
     "data": {
      "image/png": "[encoded data removed]",
      "text/plain": [
       "<Figure size 432x288 with 2 Axes>"
      ]
     },
     "metadata": {
      "needs_background": "light"
     },
     "output_type": "display_data"
    }
   ],
   "source": [
    "sns.heatmap(df_test.corr(), annot=True,cmap='Reds')"
   ]
  },
  {
   "cell_type": "markdown",
   "id": "32be2d03",
   "metadata": {
    "papermill": {
     "duration": 0.082973,
     "end_time": "2021-09-25T16:45:25.251471",
     "exception": false,
     "start_time": "2021-09-25T16:45:25.168498",
     "status": "completed"
    },
    "tags": []
   },
   "source": [
    "<div style=\"color:#D81F26;\n",
    "           display:fill;\n",
    "           border-radius:30px;\n",
    "           border-style: solid;\n",
    "           border-color:#C1C1C1;\n",
    "           background-color:#373737;\n",
    "           font-size:30px;\n",
    "           font-family:Verdana;\n",
    "           letter-spacing:0.5px\">\n",
    "<h1 style=\"text-align: center;\n",
    "           padding: 15px;\n",
    "           color:#D81F26;\">\n",
    "Data preparation\n",
    "</h1>\n",
    "</div>"
   ]
  },
  {
   "cell_type": "markdown",
   "id": "5081eeba",
   "metadata": {
    "papermill": {
     "duration": 0.085971,
     "end_time": "2021-09-25T16:45:25.421417",
     "exception": false,
     "start_time": "2021-09-25T16:45:25.335446",
     "status": "completed"
    },
    "tags": []
   },
   "source": [
    "<div style=\"color:#D81F26;\n",
    "           display:fill;\n",
    "           border-radius:10px;\n",
    "           border-style: solid;\n",
    "           border-color:#7F7F7F;\n",
    "           background-color:#373737;\n",
    "           font-size:15px;\n",
    "           font-family:Verdana;\n",
    "           letter-spacing:0.5px\">\n",
    "<h1 style=\"text-align: center;\n",
    "           padding: 15px;\n",
    "           color:#D81F26;\">\n",
    "Train set\n",
    "</h1>\n",
    "</div>"
   ]
  },
  {
   "cell_type": "code",
   "execution_count": 8,
   "id": "91bca04c",
   "metadata": {
    "execution": {
     "iopub.execute_input": "2021-09-25T16:45:25.612807Z",
     "iopub.status.busy": "2021-09-25T16:45:25.611643Z",
     "iopub.status.idle": "2021-09-25T16:45:25.616838Z",
     "shell.execute_reply": "2021-09-25T16:45:25.616262Z",
     "shell.execute_reply.started": "2021-09-25T16:42:48.202115Z"
    },
    "papermill": {
     "duration": 0.108764,
     "end_time": "2021-09-25T16:45:25.616999",
     "exception": false,
     "start_time": "2021-09-25T16:45:25.508235",
     "status": "completed"
    },
    "tags": []
   },
   "outputs": [
    {
     "data": {
      "text/html": [
       "<div>\n",
       "<style scoped>\n",
       "    .dataframe tbody tr th:only-of-type {\n",
       "        vertical-align: middle;\n",
       "    }\n",
       "\n",
       "    .dataframe tbody tr th {\n",
       "        vertical-align: top;\n",
       "    }\n",
       "\n",
       "    .dataframe thead th {\n",
       "        text-align: right;\n",
       "    }\n",
       "</style>\n",
       "<table border=\"1\" class=\"dataframe\">\n",
       "  <thead>\n",
       "    <tr style=\"text-align: right;\">\n",
       "      <th></th>\n",
       "      <th>PassengerId</th>\n",
       "      <th>Survived</th>\n",
       "      <th>Pclass</th>\n",
       "      <th>Name</th>\n",
       "      <th>Sex</th>\n",
       "      <th>Age</th>\n",
       "      <th>SibSp</th>\n",
       "      <th>Parch</th>\n",
       "      <th>Ticket</th>\n",
       "      <th>Fare</th>\n",
       "      <th>Cabin</th>\n",
       "      <th>Embarked</th>\n",
       "    </tr>\n",
       "  </thead>\n",
       "  <tbody>\n",
       "    <tr>\n",
       "      <th>0</th>\n",
       "      <td>1</td>\n",
       "      <td>0</td>\n",
       "      <td>3</td>\n",
       "      <td>Braund, Mr. Owen Harris</td>\n",
       "      <td>male</td>\n",
       "      <td>22.0</td>\n",
       "      <td>1</td>\n",
       "      <td>0</td>\n",
       "      <td>A/5 21171</td>\n",
       "      <td>7.2500</td>\n",
       "      <td>NaN</td>\n",
       "      <td>S</td>\n",
       "    </tr>\n",
       "    <tr>\n",
       "      <th>1</th>\n",
       "      <td>2</td>\n",
       "      <td>1</td>\n",
       "      <td>1</td>\n",
       "      <td>Cumings, Mrs. John Bradley (Florence Briggs Th...</td>\n",
       "      <td>female</td>\n",
       "      <td>38.0</td>\n",
       "      <td>1</td>\n",
       "      <td>0</td>\n",
       "      <td>PC 17599</td>\n",
       "      <td>71.2833</td>\n",
       "      <td>C85</td>\n",
       "      <td>C</td>\n",
       "    </tr>\n",
       "    <tr>\n",
       "      <th>2</th>\n",
       "      <td>3</td>\n",
       "      <td>1</td>\n",
       "      <td>3</td>\n",
       "      <td>Heikkinen, Miss. Laina</td>\n",
       "      <td>female</td>\n",
       "      <td>26.0</td>\n",
       "      <td>0</td>\n",
       "      <td>0</td>\n",
       "      <td>STON/O2. 3101282</td>\n",
       "      <td>7.9250</td>\n",
       "      <td>NaN</td>\n",
       "      <td>S</td>\n",
       "    </tr>\n",
       "    <tr>\n",
       "      <th>3</th>\n",
       "      <td>4</td>\n",
       "      <td>1</td>\n",
       "      <td>1</td>\n",
       "      <td>Futrelle, Mrs. Jacques Heath (Lily May Peel)</td>\n",
       "      <td>female</td>\n",
       "      <td>35.0</td>\n",
       "      <td>1</td>\n",
       "      <td>0</td>\n",
       "      <td>113803</td>\n",
       "      <td>53.1000</td>\n",
       "      <td>C123</td>\n",
       "      <td>S</td>\n",
       "    </tr>\n",
       "    <tr>\n",
       "      <th>4</th>\n",
       "      <td>5</td>\n",
       "      <td>0</td>\n",
       "      <td>3</td>\n",
       "      <td>Allen, Mr. William Henry</td>\n",
       "      <td>male</td>\n",
       "      <td>35.0</td>\n",
       "      <td>0</td>\n",
       "      <td>0</td>\n",
       "      <td>373450</td>\n",
       "      <td>8.0500</td>\n",
       "      <td>NaN</td>\n",
       "      <td>S</td>\n",
       "    </tr>\n",
       "  </tbody>\n",
       "</table>\n",
       "</div>"
      ],
      "text/plain": [
       "   PassengerId  Survived  Pclass  \\\n",
       "0            1         0       3   \n",
       "1            2         1       1   \n",
       "2            3         1       3   \n",
       "3            4         1       1   \n",
       "4            5         0       3   \n",
       "\n",
       "                                                Name     Sex   Age  SibSp  \\\n",
       "0                            Braund, Mr. Owen Harris    male  22.0      1   \n",
       "1  Cumings, Mrs. John Bradley (Florence Briggs Th...  female  38.0      1   \n",
       "2                             Heikkinen, Miss. Laina  female  26.0      0   \n",
       "3       Futrelle, Mrs. Jacques Heath (Lily May Peel)  female  35.0      1   \n",
       "4                           Allen, Mr. William Henry    male  35.0      0   \n",
       "\n",
       "   Parch            Ticket     Fare Cabin Embarked  \n",
       "0      0         A/5 21171   7.2500   NaN        S  \n",
       "1      0          PC 17599  71.2833   C85        C  \n",
       "2      0  STON/O2. 3101282   7.9250   NaN        S  \n",
       "3      0            113803  53.1000  C123        S  \n",
       "4      0            373450   8.0500   NaN        S  "
      ]
     },
     "execution_count": 8,
     "metadata": {},
     "output_type": "execute_result"
    }
   ],
   "source": [
    "df_train.head()"
   ]
  },
  {
   "cell_type": "code",
   "execution_count": 9,
   "id": "2f8a9c26",
   "metadata": {
    "execution": {
     "iopub.execute_input": "2021-09-25T16:45:25.794821Z",
     "iopub.status.busy": "2021-09-25T16:45:25.793644Z",
     "iopub.status.idle": "2021-09-25T16:45:25.810495Z",
     "shell.execute_reply": "2021-09-25T16:45:25.809701Z",
     "shell.execute_reply.started": "2021-09-25T16:42:48.222934Z"
    },
    "papermill": {
     "duration": 0.110019,
     "end_time": "2021-09-25T16:45:25.810657",
     "exception": false,
     "start_time": "2021-09-25T16:45:25.700638",
     "status": "completed"
    },
    "tags": []
   },
   "outputs": [
    {
     "data": {
      "text/html": [
       "<div>\n",
       "<style scoped>\n",
       "    .dataframe tbody tr th:only-of-type {\n",
       "        vertical-align: middle;\n",
       "    }\n",
       "\n",
       "    .dataframe tbody tr th {\n",
       "        vertical-align: top;\n",
       "    }\n",
       "\n",
       "    .dataframe thead th {\n",
       "        text-align: right;\n",
       "    }\n",
       "</style>\n",
       "<table border=\"1\" class=\"dataframe\">\n",
       "  <thead>\n",
       "    <tr style=\"text-align: right;\">\n",
       "      <th></th>\n",
       "      <th>Pclass</th>\n",
       "      <th>Age</th>\n",
       "      <th>SibSp</th>\n",
       "      <th>PassengerId</th>\n",
       "      <th>Parch</th>\n",
       "      <th>Fare</th>\n",
       "      <th>Survived</th>\n",
       "    </tr>\n",
       "  </thead>\n",
       "  <tbody>\n",
       "    <tr>\n",
       "      <th>Survived</th>\n",
       "      <td>-0.338481</td>\n",
       "      <td>-0.077221</td>\n",
       "      <td>-0.035322</td>\n",
       "      <td>-0.005007</td>\n",
       "      <td>0.081629</td>\n",
       "      <td>0.257307</td>\n",
       "      <td>1.0</td>\n",
       "    </tr>\n",
       "  </tbody>\n",
       "</table>\n",
       "</div>"
      ],
      "text/plain": [
       "            Pclass       Age     SibSp  PassengerId     Parch      Fare  \\\n",
       "Survived -0.338481 -0.077221 -0.035322    -0.005007  0.081629  0.257307   \n",
       "\n",
       "          Survived  \n",
       "Survived       1.0  "
      ]
     },
     "execution_count": 9,
     "metadata": {},
     "output_type": "execute_result"
    }
   ],
   "source": [
    "pd.DataFrame([df_train.corr()['Survived'].sort_values()])"
   ]
  },
  {
   "cell_type": "code",
   "execution_count": 10,
   "id": "c1e858b0",
   "metadata": {
    "execution": {
     "iopub.execute_input": "2021-09-25T16:45:26.023683Z",
     "iopub.status.busy": "2021-09-25T16:45:26.012153Z",
     "iopub.status.idle": "2021-09-25T16:45:26.214798Z",
     "shell.execute_reply": "2021-09-25T16:45:26.214210Z",
     "shell.execute_reply.started": "2021-09-25T16:42:48.247647Z"
    },
    "papermill": {
     "duration": 0.316887,
     "end_time": "2021-09-25T16:45:26.214963",
     "exception": false,
     "start_time": "2021-09-25T16:45:25.898076",
     "status": "completed"
    },
    "tags": []
   },
   "outputs": [
    {
     "data": {
      "text/plain": [
       "[<matplotlib.lines.Line2D at 0x7fb6dcc09f10>]"
      ]
     },
     "execution_count": 10,
     "metadata": {},
     "output_type": "execute_result"
    },
    {
     "data": {
      "image/png": "[encoded data removed]",
      "text/plain": [
       "<Figure size 432x288 with 1 Axes>"
      ]
     },
     "metadata": {},
     "output_type": "display_data"
    }
   ],
   "source": [
    "font = {'family': 'serif',\n",
    "        'color':  'white',\n",
    "        'weight': 'normal',\n",
    "        'size': 20,\n",
    "        }\n",
    "\n",
    "plt.style.use('dark_background')\n",
    "\n",
    "fig, ax = plt.subplots()\n",
    "\n",
    "X=df_train['Fare']\n",
    "y=df_train['Survived']\n",
    "\n",
    "\n",
    "ax.set_xlabel('Fare', fontdict=font)\n",
    "ax.set_ylabel('Survived', fontdict=font)\n",
    "\n",
    "  \n",
    "plt.plot(X,y, 'ro', alpha=0.5)"
   ]
  },
  {
   "cell_type": "code",
   "execution_count": 11,
   "id": "9d79c0b5",
   "metadata": {
    "execution": {
     "iopub.execute_input": "2021-09-25T16:45:26.393811Z",
     "iopub.status.busy": "2021-09-25T16:45:26.393075Z",
     "iopub.status.idle": "2021-09-25T16:45:26.400616Z",
     "shell.execute_reply": "2021-09-25T16:45:26.399864Z",
     "shell.execute_reply.started": "2021-09-25T16:42:48.501532Z"
    },
    "papermill": {
     "duration": 0.099771,
     "end_time": "2021-09-25T16:45:26.400771",
     "exception": false,
     "start_time": "2021-09-25T16:45:26.301000",
     "status": "completed"
    },
    "tags": []
   },
   "outputs": [
    {
     "data": {
      "text/plain": [
       "PassengerId      0\n",
       "Survived         0\n",
       "Pclass           0\n",
       "Name             0\n",
       "Sex              0\n",
       "Age            177\n",
       "SibSp            0\n",
       "Parch            0\n",
       "Ticket           0\n",
       "Fare             0\n",
       "Cabin          687\n",
       "Embarked         2\n",
       "dtype: int64"
      ]
     },
     "execution_count": 11,
     "metadata": {},
     "output_type": "execute_result"
    }
   ],
   "source": [
    "df_train.isnull().sum()"
   ]
  },
  {
   "cell_type": "code",
   "execution_count": 12,
   "id": "1d57b402",
   "metadata": {
    "execution": {
     "iopub.execute_input": "2021-09-25T16:45:26.593433Z",
     "iopub.status.busy": "2021-09-25T16:45:26.592693Z",
     "iopub.status.idle": "2021-09-25T16:45:26.595653Z",
     "shell.execute_reply": "2021-09-25T16:45:26.596363Z",
     "shell.execute_reply.started": "2021-09-25T16:42:48.515164Z"
    },
    "papermill": {
     "duration": 0.105916,
     "end_time": "2021-09-25T16:45:26.596554",
     "exception": false,
     "start_time": "2021-09-25T16:45:26.490638",
     "status": "completed"
    },
    "tags": []
   },
   "outputs": [
    {
     "data": {
      "text/plain": [
       "PassengerId     0.000000\n",
       "Survived        0.000000\n",
       "Pclass          0.000000\n",
       "Name            0.000000\n",
       "Sex             0.000000\n",
       "Age            19.865320\n",
       "SibSp           0.000000\n",
       "Parch           0.000000\n",
       "Ticket          0.000000\n",
       "Fare            0.000000\n",
       "Cabin          77.104377\n",
       "Embarked        0.224467\n",
       "dtype: float64"
      ]
     },
     "execution_count": 12,
     "metadata": {},
     "output_type": "execute_result"
    }
   ],
   "source": [
    "100*(df_train.isnull().sum()/len(df_train))"
   ]
  },
  {
   "cell_type": "code",
   "execution_count": 13,
   "id": "f7b8a9ef",
   "metadata": {
    "execution": {
     "iopub.execute_input": "2021-09-25T16:45:26.781186Z",
     "iopub.status.busy": "2021-09-25T16:45:26.780440Z",
     "iopub.status.idle": "2021-09-25T16:45:26.785767Z",
     "shell.execute_reply": "2021-09-25T16:45:26.786673Z",
     "shell.execute_reply.started": "2021-09-25T16:42:48.535667Z"
    },
    "papermill": {
     "duration": 0.101318,
     "end_time": "2021-09-25T16:45:26.786914",
     "exception": false,
     "start_time": "2021-09-25T16:45:26.685596",
     "status": "completed"
    },
    "tags": []
   },
   "outputs": [],
   "source": [
    "def missing_percent(df):\n",
    "    nan_percent= 100*(df.isnull().sum()/len(df))\n",
    "    nan_percent= nan_percent[nan_percent>0].sort_values()\n",
    "    return nan_percent"
   ]
  },
  {
   "cell_type": "code",
   "execution_count": 14,
   "id": "8d9cbb42",
   "metadata": {
    "execution": {
     "iopub.execute_input": "2021-09-25T16:45:26.983899Z",
     "iopub.status.busy": "2021-09-25T16:45:26.979112Z",
     "iopub.status.idle": "2021-09-25T16:45:26.987713Z",
     "shell.execute_reply": "2021-09-25T16:45:26.986966Z",
     "shell.execute_reply.started": "2021-09-25T16:42:48.549673Z"
    },
    "papermill": {
     "duration": 0.104585,
     "end_time": "2021-09-25T16:45:26.987872",
     "exception": false,
     "start_time": "2021-09-25T16:45:26.883287",
     "status": "completed"
    },
    "tags": []
   },
   "outputs": [],
   "source": [
    "nan_percent= missing_percent(df_train)"
   ]
  },
  {
   "cell_type": "code",
   "execution_count": 15,
   "id": "5959e3b5",
   "metadata": {
    "execution": {
     "iopub.execute_input": "2021-09-25T16:45:27.174356Z",
     "iopub.status.busy": "2021-09-25T16:45:27.173191Z",
     "iopub.status.idle": "2021-09-25T16:45:27.177555Z",
     "shell.execute_reply": "2021-09-25T16:45:27.178215Z",
     "shell.execute_reply.started": "2021-09-25T16:42:48.566681Z"
    },
    "papermill": {
     "duration": 0.102346,
     "end_time": "2021-09-25T16:45:27.178411",
     "exception": false,
     "start_time": "2021-09-25T16:45:27.076065",
     "status": "completed"
    },
    "tags": []
   },
   "outputs": [
    {
     "data": {
      "text/plain": [
       "Embarked     0.224467\n",
       "Age         19.865320\n",
       "Cabin       77.104377\n",
       "dtype: float64"
      ]
     },
     "execution_count": 15,
     "metadata": {},
     "output_type": "execute_result"
    }
   ],
   "source": [
    "nan_percent"
   ]
  },
  {
   "cell_type": "code",
   "execution_count": 16,
   "id": "53915e88",
   "metadata": {
    "execution": {
     "iopub.execute_input": "2021-09-25T16:45:27.398572Z",
     "iopub.status.busy": "2021-09-25T16:45:27.383555Z",
     "iopub.status.idle": "2021-09-25T16:45:27.585772Z",
     "shell.execute_reply": "2021-09-25T16:45:27.586493Z",
     "shell.execute_reply.started": "2021-09-25T16:42:48.578814Z"
    },
    "papermill": {
     "duration": 0.317307,
     "end_time": "2021-09-25T16:45:27.586682",
     "exception": false,
     "start_time": "2021-09-25T16:45:27.269375",
     "status": "completed"
    },
    "tags": []
   },
   "outputs": [
    {
     "data": {
      "text/plain": [
       "(array([0, 1, 2]),\n",
       " [Text(0, 0, 'Embarked'), Text(1, 0, 'Age'), Text(2, 0, 'Cabin')])"
      ]
     },
     "execution_count": 16,
     "metadata": {},
     "output_type": "execute_result"
    },
    {
     "data": {
      "image/png": "[encoded data removed]",
      "text/plain": [
       "<Figure size 864x432 with 1 Axes>"
      ]
     },
     "metadata": {},
     "output_type": "display_data"
    }
   ],
   "source": [
    "nan_percent= missing_percent(df_train)\n",
    "\n",
    "plt.figure(figsize=(12,6))\n",
    "sns.barplot(x=nan_percent.index, y=nan_percent)\n",
    "plt.xticks(rotation=90)"
   ]
  },
  {
   "cell_type": "code",
   "execution_count": 17,
   "id": "f0cc00b8",
   "metadata": {
    "execution": {
     "iopub.execute_input": "2021-09-25T16:45:27.773710Z",
     "iopub.status.busy": "2021-09-25T16:45:27.772634Z",
     "iopub.status.idle": "2021-09-25T16:45:27.781201Z",
     "shell.execute_reply": "2021-09-25T16:45:27.780556Z",
     "shell.execute_reply.started": "2021-09-25T16:42:48.816159Z"
    },
    "papermill": {
     "duration": 0.104833,
     "end_time": "2021-09-25T16:45:27.781367",
     "exception": false,
     "start_time": "2021-09-25T16:45:27.676534",
     "status": "completed"
    },
    "tags": []
   },
   "outputs": [
    {
     "data": {
      "text/plain": [
       "Index(['Embarked'], dtype='object')"
      ]
     },
     "execution_count": 17,
     "metadata": {},
     "output_type": "execute_result"
    }
   ],
   "source": [
    "nan_percent[nan_percent<1].index"
   ]
  },
  {
   "cell_type": "code",
   "execution_count": 18,
   "id": "5b1e28ac",
   "metadata": {
    "execution": {
     "iopub.execute_input": "2021-09-25T16:45:27.980144Z",
     "iopub.status.busy": "2021-09-25T16:45:27.978694Z",
     "iopub.status.idle": "2021-09-25T16:45:27.982397Z",
     "shell.execute_reply": "2021-09-25T16:45:27.982922Z",
     "shell.execute_reply.started": "2021-09-25T16:42:48.825901Z"
    },
    "papermill": {
     "duration": 0.112237,
     "end_time": "2021-09-25T16:45:27.983133",
     "exception": false,
     "start_time": "2021-09-25T16:45:27.870896",
     "status": "completed"
    },
    "tags": []
   },
   "outputs": [
    {
     "data": {
      "text/html": [
       "<div>\n",
       "<style scoped>\n",
       "    .dataframe tbody tr th:only-of-type {\n",
       "        vertical-align: middle;\n",
       "    }\n",
       "\n",
       "    .dataframe tbody tr th {\n",
       "        vertical-align: top;\n",
       "    }\n",
       "\n",
       "    .dataframe thead th {\n",
       "        text-align: right;\n",
       "    }\n",
       "</style>\n",
       "<table border=\"1\" class=\"dataframe\">\n",
       "  <thead>\n",
       "    <tr style=\"text-align: right;\">\n",
       "      <th></th>\n",
       "      <th>PassengerId</th>\n",
       "      <th>Survived</th>\n",
       "      <th>Pclass</th>\n",
       "      <th>Name</th>\n",
       "      <th>Sex</th>\n",
       "      <th>Age</th>\n",
       "      <th>SibSp</th>\n",
       "      <th>Parch</th>\n",
       "      <th>Ticket</th>\n",
       "      <th>Fare</th>\n",
       "      <th>Cabin</th>\n",
       "      <th>Embarked</th>\n",
       "    </tr>\n",
       "  </thead>\n",
       "  <tbody>\n",
       "    <tr>\n",
       "      <th>61</th>\n",
       "      <td>62</td>\n",
       "      <td>1</td>\n",
       "      <td>1</td>\n",
       "      <td>Icard, Miss. Amelie</td>\n",
       "      <td>female</td>\n",
       "      <td>38.0</td>\n",
       "      <td>0</td>\n",
       "      <td>0</td>\n",
       "      <td>113572</td>\n",
       "      <td>80.0</td>\n",
       "      <td>B28</td>\n",
       "      <td>NaN</td>\n",
       "    </tr>\n",
       "    <tr>\n",
       "      <th>829</th>\n",
       "      <td>830</td>\n",
       "      <td>1</td>\n",
       "      <td>1</td>\n",
       "      <td>Stone, Mrs. George Nelson (Martha Evelyn)</td>\n",
       "      <td>female</td>\n",
       "      <td>62.0</td>\n",
       "      <td>0</td>\n",
       "      <td>0</td>\n",
       "      <td>113572</td>\n",
       "      <td>80.0</td>\n",
       "      <td>B28</td>\n",
       "      <td>NaN</td>\n",
       "    </tr>\n",
       "  </tbody>\n",
       "</table>\n",
       "</div>"
      ],
      "text/plain": [
       "     PassengerId  Survived  Pclass                                       Name  \\\n",
       "61            62         1       1                        Icard, Miss. Amelie   \n",
       "829          830         1       1  Stone, Mrs. George Nelson (Martha Evelyn)   \n",
       "\n",
       "        Sex   Age  SibSp  Parch  Ticket  Fare Cabin Embarked  \n",
       "61   female  38.0      0      0  113572  80.0   B28      NaN  \n",
       "829  female  62.0      0      0  113572  80.0   B28      NaN  "
      ]
     },
     "execution_count": 18,
     "metadata": {},
     "output_type": "execute_result"
    }
   ],
   "source": [
    "df_train[df_train['Embarked'].isnull()]"
   ]
  },
  {
   "cell_type": "code",
   "execution_count": 19,
   "id": "fedefd87",
   "metadata": {
    "execution": {
     "iopub.execute_input": "2021-09-25T16:45:28.169810Z",
     "iopub.status.busy": "2021-09-25T16:45:28.168649Z",
     "iopub.status.idle": "2021-09-25T16:45:28.171392Z",
     "shell.execute_reply": "2021-09-25T16:45:28.172064Z",
     "shell.execute_reply.started": "2021-09-25T16:42:48.852281Z"
    },
    "papermill": {
     "duration": 0.101388,
     "end_time": "2021-09-25T16:45:28.172280",
     "exception": false,
     "start_time": "2021-09-25T16:45:28.070892",
     "status": "completed"
    },
    "tags": []
   },
   "outputs": [],
   "source": [
    "df_train= df_train.dropna(axis=0, subset=['Embarked'])"
   ]
  },
  {
   "cell_type": "code",
   "execution_count": 20,
   "id": "37109828",
   "metadata": {
    "execution": {
     "iopub.execute_input": "2021-09-25T16:45:28.371161Z",
     "iopub.status.busy": "2021-09-25T16:45:28.369955Z",
     "iopub.status.idle": "2021-09-25T16:45:28.583083Z",
     "shell.execute_reply": "2021-09-25T16:45:28.582356Z",
     "shell.execute_reply.started": "2021-09-25T16:42:48.868053Z"
    },
    "papermill": {
     "duration": 0.31826,
     "end_time": "2021-09-25T16:45:28.583264",
     "exception": false,
     "start_time": "2021-09-25T16:45:28.265004",
     "status": "completed"
    },
    "tags": []
   },
   "outputs": [
    {
     "data": {
      "text/plain": [
       "(array([0, 1]), [Text(0, 0, 'Age'), Text(1, 0, 'Cabin')])"
      ]
     },
     "execution_count": 20,
     "metadata": {},
     "output_type": "execute_result"
    },
    {
     "data": {
      "image/png": "[encoded data removed]",
      "text/plain": [
       "<Figure size 864x432 with 1 Axes>"
      ]
     },
     "metadata": {},
     "output_type": "display_data"
    }
   ],
   "source": [
    "nan_percent= missing_percent(df_train)\n",
    "\n",
    "plt.figure(figsize=(12,6))\n",
    "sns.barplot(x=nan_percent.index, y=nan_percent)\n",
    "plt.xticks(rotation=90)"
   ]
  },
  {
   "cell_type": "code",
   "execution_count": 21,
   "id": "e174439d",
   "metadata": {
    "execution": {
     "iopub.execute_input": "2021-09-25T16:45:28.783686Z",
     "iopub.status.busy": "2021-09-25T16:45:28.778120Z",
     "iopub.status.idle": "2021-09-25T16:45:28.788809Z",
     "shell.execute_reply": "2021-09-25T16:45:28.788063Z",
     "shell.execute_reply.started": "2021-09-25T16:42:49.082250Z"
    },
    "papermill": {
     "duration": 0.11219,
     "end_time": "2021-09-25T16:45:28.788970",
     "exception": false,
     "start_time": "2021-09-25T16:45:28.676780",
     "status": "completed"
    },
    "tags": []
   },
   "outputs": [
    {
     "data": {
      "text/plain": [
       "PassengerId      0\n",
       "Survived         0\n",
       "Pclass           0\n",
       "Name             0\n",
       "Sex              0\n",
       "Age              0\n",
       "SibSp            0\n",
       "Parch            0\n",
       "Ticket           0\n",
       "Fare             0\n",
       "Cabin          687\n",
       "Embarked         0\n",
       "dtype: int64"
      ]
     },
     "execution_count": 21,
     "metadata": {},
     "output_type": "execute_result"
    }
   ],
   "source": [
    "df_train['Age'] = df_train['Age'].fillna(df_train['Age'].median())\n",
    "df_train.isnull().sum()"
   ]
  },
  {
   "cell_type": "code",
   "execution_count": 22,
   "id": "2761dd6e",
   "metadata": {
    "execution": {
     "iopub.execute_input": "2021-09-25T16:45:29.024479Z",
     "iopub.status.busy": "2021-09-25T16:45:29.023699Z",
     "iopub.status.idle": "2021-09-25T16:45:29.211549Z",
     "shell.execute_reply": "2021-09-25T16:45:29.212230Z",
     "shell.execute_reply.started": "2021-09-25T16:42:49.095186Z"
    },
    "papermill": {
     "duration": 0.331174,
     "end_time": "2021-09-25T16:45:29.212431",
     "exception": false,
     "start_time": "2021-09-25T16:45:28.881257",
     "status": "completed"
    },
    "tags": []
   },
   "outputs": [
    {
     "data": {
      "text/plain": [
       "(array([0]), [Text(0, 0, 'Cabin')])"
      ]
     },
     "execution_count": 22,
     "metadata": {},
     "output_type": "execute_result"
    },
    {
     "data": {
      "image/png": "[encoded data removed]",
      "text/plain": [
       "<Figure size 864x432 with 1 Axes>"
      ]
     },
     "metadata": {},
     "output_type": "display_data"
    }
   ],
   "source": [
    "nan_percent= missing_percent(df_train)\n",
    "\n",
    "plt.figure(figsize=(12,6))\n",
    "sns.barplot(x=nan_percent.index, y=nan_percent)\n",
    "plt.xticks(rotation=90)"
   ]
  },
  {
   "cell_type": "code",
   "execution_count": 23,
   "id": "d60d24a6",
   "metadata": {
    "execution": {
     "iopub.execute_input": "2021-09-25T16:45:29.408730Z",
     "iopub.status.busy": "2021-09-25T16:45:29.407904Z",
     "iopub.status.idle": "2021-09-25T16:45:29.411741Z",
     "shell.execute_reply": "2021-09-25T16:45:29.411013Z",
     "shell.execute_reply.started": "2021-09-25T16:42:49.305433Z"
    },
    "papermill": {
     "duration": 0.105853,
     "end_time": "2021-09-25T16:45:29.411929",
     "exception": false,
     "start_time": "2021-09-25T16:45:29.306076",
     "status": "completed"
    },
    "tags": []
   },
   "outputs": [],
   "source": [
    "df_train=df_train.drop(['Cabin'], axis=1)"
   ]
  },
  {
   "cell_type": "code",
   "execution_count": 24,
   "id": "f38ab1a0",
   "metadata": {
    "execution": {
     "iopub.execute_input": "2021-09-25T16:45:29.607381Z",
     "iopub.status.busy": "2021-09-25T16:45:29.606643Z",
     "iopub.status.idle": "2021-09-25T16:45:29.617824Z",
     "shell.execute_reply": "2021-09-25T16:45:29.617227Z",
     "shell.execute_reply.started": "2021-09-25T16:42:49.315768Z"
    },
    "papermill": {
     "duration": 0.109015,
     "end_time": "2021-09-25T16:45:29.617989",
     "exception": false,
     "start_time": "2021-09-25T16:45:29.508974",
     "status": "completed"
    },
    "tags": []
   },
   "outputs": [
    {
     "data": {
      "text/plain": [
       "Series([], dtype: float64)"
      ]
     },
     "execution_count": 24,
     "metadata": {},
     "output_type": "execute_result"
    }
   ],
   "source": [
    "nan_percent= missing_percent(df_train)\n",
    "nan_percent"
   ]
  },
  {
   "cell_type": "markdown",
   "id": "8d6432d5",
   "metadata": {
    "papermill": {
     "duration": 0.09145,
     "end_time": "2021-09-25T16:45:29.800135",
     "exception": false,
     "start_time": "2021-09-25T16:45:29.708685",
     "status": "completed"
    },
    "tags": []
   },
   "source": [
    "<div style=\"color:#D81F26;\n",
    "           display:fill;\n",
    "           border-radius:10px;\n",
    "           border-style: solid;\n",
    "           border-color:#7F7F7F;\n",
    "           background-color:#373737;\n",
    "           font-size:15px;\n",
    "           font-family:Verdana;\n",
    "           letter-spacing:0.5px\">\n",
    "<h1 style=\"text-align: center;\n",
    "           padding: 15px;\n",
    "           color:#D81F26;\">\n",
    "Test set\n",
    "</h1>\n",
    "</div>"
   ]
  },
  {
   "cell_type": "code",
   "execution_count": 25,
   "id": "d70f5cef",
   "metadata": {
    "execution": {
     "iopub.execute_input": "2021-09-25T16:45:29.995905Z",
     "iopub.status.busy": "2021-09-25T16:45:29.995218Z",
     "iopub.status.idle": "2021-09-25T16:45:30.006612Z",
     "shell.execute_reply": "2021-09-25T16:45:30.005971Z",
     "shell.execute_reply.started": "2021-09-25T16:42:49.331548Z"
    },
    "papermill": {
     "duration": 0.11198,
     "end_time": "2021-09-25T16:45:30.006771",
     "exception": false,
     "start_time": "2021-09-25T16:45:29.894791",
     "status": "completed"
    },
    "tags": []
   },
   "outputs": [
    {
     "data": {
      "text/html": [
       "<div>\n",
       "<style scoped>\n",
       "    .dataframe tbody tr th:only-of-type {\n",
       "        vertical-align: middle;\n",
       "    }\n",
       "\n",
       "    .dataframe tbody tr th {\n",
       "        vertical-align: top;\n",
       "    }\n",
       "\n",
       "    .dataframe thead th {\n",
       "        text-align: right;\n",
       "    }\n",
       "</style>\n",
       "<table border=\"1\" class=\"dataframe\">\n",
       "  <thead>\n",
       "    <tr style=\"text-align: right;\">\n",
       "      <th></th>\n",
       "      <th>PassengerId</th>\n",
       "      <th>Pclass</th>\n",
       "      <th>Name</th>\n",
       "      <th>Sex</th>\n",
       "      <th>Age</th>\n",
       "      <th>SibSp</th>\n",
       "      <th>Parch</th>\n",
       "      <th>Ticket</th>\n",
       "      <th>Fare</th>\n",
       "      <th>Cabin</th>\n",
       "      <th>Embarked</th>\n",
       "      <th>Survived</th>\n",
       "    </tr>\n",
       "  </thead>\n",
       "  <tbody>\n",
       "    <tr>\n",
       "      <th>0</th>\n",
       "      <td>892</td>\n",
       "      <td>3</td>\n",
       "      <td>Kelly, Mr. James</td>\n",
       "      <td>male</td>\n",
       "      <td>34.5</td>\n",
       "      <td>0</td>\n",
       "      <td>0</td>\n",
       "      <td>330911</td>\n",
       "      <td>7.8292</td>\n",
       "      <td>NaN</td>\n",
       "      <td>Q</td>\n",
       "      <td>0</td>\n",
       "    </tr>\n",
       "    <tr>\n",
       "      <th>1</th>\n",
       "      <td>893</td>\n",
       "      <td>3</td>\n",
       "      <td>Wilkes, Mrs. James (Ellen Needs)</td>\n",
       "      <td>female</td>\n",
       "      <td>47.0</td>\n",
       "      <td>1</td>\n",
       "      <td>0</td>\n",
       "      <td>363272</td>\n",
       "      <td>7.0000</td>\n",
       "      <td>NaN</td>\n",
       "      <td>S</td>\n",
       "      <td>1</td>\n",
       "    </tr>\n",
       "    <tr>\n",
       "      <th>2</th>\n",
       "      <td>894</td>\n",
       "      <td>2</td>\n",
       "      <td>Myles, Mr. Thomas Francis</td>\n",
       "      <td>male</td>\n",
       "      <td>62.0</td>\n",
       "      <td>0</td>\n",
       "      <td>0</td>\n",
       "      <td>240276</td>\n",
       "      <td>9.6875</td>\n",
       "      <td>NaN</td>\n",
       "      <td>Q</td>\n",
       "      <td>0</td>\n",
       "    </tr>\n",
       "    <tr>\n",
       "      <th>3</th>\n",
       "      <td>895</td>\n",
       "      <td>3</td>\n",
       "      <td>Wirz, Mr. Albert</td>\n",
       "      <td>male</td>\n",
       "      <td>27.0</td>\n",
       "      <td>0</td>\n",
       "      <td>0</td>\n",
       "      <td>315154</td>\n",
       "      <td>8.6625</td>\n",
       "      <td>NaN</td>\n",
       "      <td>S</td>\n",
       "      <td>0</td>\n",
       "    </tr>\n",
       "    <tr>\n",
       "      <th>4</th>\n",
       "      <td>896</td>\n",
       "      <td>3</td>\n",
       "      <td>Hirvonen, Mrs. Alexander (Helga E Lindqvist)</td>\n",
       "      <td>female</td>\n",
       "      <td>22.0</td>\n",
       "      <td>1</td>\n",
       "      <td>1</td>\n",
       "      <td>3101298</td>\n",
       "      <td>12.2875</td>\n",
       "      <td>NaN</td>\n",
       "      <td>S</td>\n",
       "      <td>1</td>\n",
       "    </tr>\n",
       "  </tbody>\n",
       "</table>\n",
       "</div>"
      ],
      "text/plain": [
       "   PassengerId  Pclass                                          Name     Sex  \\\n",
       "0          892       3                              Kelly, Mr. James    male   \n",
       "1          893       3              Wilkes, Mrs. James (Ellen Needs)  female   \n",
       "2          894       2                     Myles, Mr. Thomas Francis    male   \n",
       "3          895       3                              Wirz, Mr. Albert    male   \n",
       "4          896       3  Hirvonen, Mrs. Alexander (Helga E Lindqvist)  female   \n",
       "\n",
       "    Age  SibSp  Parch   Ticket     Fare Cabin Embarked  Survived  \n",
       "0  34.5      0      0   330911   7.8292   NaN        Q         0  \n",
       "1  47.0      1      0   363272   7.0000   NaN        S         1  \n",
       "2  62.0      0      0   240276   9.6875   NaN        Q         0  \n",
       "3  27.0      0      0   315154   8.6625   NaN        S         0  \n",
       "4  22.0      1      1  3101298  12.2875   NaN        S         1  "
      ]
     },
     "execution_count": 25,
     "metadata": {},
     "output_type": "execute_result"
    }
   ],
   "source": [
    "df_test.head()"
   ]
  },
  {
   "cell_type": "code",
   "execution_count": 26,
   "id": "bb244ea4",
   "metadata": {
    "execution": {
     "iopub.execute_input": "2021-09-25T16:45:30.201012Z",
     "iopub.status.busy": "2021-09-25T16:45:30.200295Z",
     "iopub.status.idle": "2021-09-25T16:45:30.216461Z",
     "shell.execute_reply": "2021-09-25T16:45:30.215714Z",
     "shell.execute_reply.started": "2021-09-25T16:42:49.359762Z"
    },
    "papermill": {
     "duration": 0.118071,
     "end_time": "2021-09-25T16:45:30.216626",
     "exception": false,
     "start_time": "2021-09-25T16:45:30.098555",
     "status": "completed"
    },
    "tags": []
   },
   "outputs": [
    {
     "data": {
      "text/html": [
       "<div>\n",
       "<style scoped>\n",
       "    .dataframe tbody tr th:only-of-type {\n",
       "        vertical-align: middle;\n",
       "    }\n",
       "\n",
       "    .dataframe tbody tr th {\n",
       "        vertical-align: top;\n",
       "    }\n",
       "\n",
       "    .dataframe thead th {\n",
       "        text-align: right;\n",
       "    }\n",
       "</style>\n",
       "<table border=\"1\" class=\"dataframe\">\n",
       "  <thead>\n",
       "    <tr style=\"text-align: right;\">\n",
       "      <th></th>\n",
       "      <th>Pclass</th>\n",
       "      <th>PassengerId</th>\n",
       "      <th>Age</th>\n",
       "      <th>SibSp</th>\n",
       "      <th>Parch</th>\n",
       "      <th>Fare</th>\n",
       "      <th>Survived</th>\n",
       "    </tr>\n",
       "  </thead>\n",
       "  <tbody>\n",
       "    <tr>\n",
       "      <th>Survived</th>\n",
       "      <td>-0.108615</td>\n",
       "      <td>-0.023245</td>\n",
       "      <td>-0.000013</td>\n",
       "      <td>0.099943</td>\n",
       "      <td>0.15912</td>\n",
       "      <td>0.191514</td>\n",
       "      <td>1.0</td>\n",
       "    </tr>\n",
       "  </tbody>\n",
       "</table>\n",
       "</div>"
      ],
      "text/plain": [
       "            Pclass  PassengerId       Age     SibSp    Parch      Fare  \\\n",
       "Survived -0.108615    -0.023245 -0.000013  0.099943  0.15912  0.191514   \n",
       "\n",
       "          Survived  \n",
       "Survived       1.0  "
      ]
     },
     "execution_count": 26,
     "metadata": {},
     "output_type": "execute_result"
    }
   ],
   "source": [
    "pd.DataFrame([df_test.corr()['Survived'].sort_values()])"
   ]
  },
  {
   "cell_type": "code",
   "execution_count": 27,
   "id": "7e1be564",
   "metadata": {
    "execution": {
     "iopub.execute_input": "2021-09-25T16:45:30.413399Z",
     "iopub.status.busy": "2021-09-25T16:45:30.412668Z",
     "iopub.status.idle": "2021-09-25T16:45:30.669156Z",
     "shell.execute_reply": "2021-09-25T16:45:30.668565Z",
     "shell.execute_reply.started": "2021-09-25T16:42:49.377666Z"
    },
    "papermill": {
     "duration": 0.360445,
     "end_time": "2021-09-25T16:45:30.669319",
     "exception": false,
     "start_time": "2021-09-25T16:45:30.308874",
     "status": "completed"
    },
    "tags": []
   },
   "outputs": [
    {
     "data": {
      "text/plain": [
       "[<matplotlib.lines.Line2D at 0x7fb6dca33690>]"
      ]
     },
     "execution_count": 27,
     "metadata": {},
     "output_type": "execute_result"
    },
    {
     "data": {
      "image/png": "[encoded data removed]",
      "text/plain": [
       "<Figure size 432x288 with 1 Axes>"
      ]
     },
     "metadata": {},
     "output_type": "display_data"
    }
   ],
   "source": [
    "font = {'family': 'serif',\n",
    "        'color':  'white',\n",
    "        'weight': 'normal',\n",
    "        'size': 20,\n",
    "        }\n",
    "\n",
    "plt.style.use('dark_background')\n",
    "\n",
    "fig, ax = plt.subplots()\n",
    "\n",
    "X=df_test['Fare']\n",
    "y=df_test['Survived']\n",
    "\n",
    "\n",
    "ax.set_xlabel('Fare', fontdict=font)\n",
    "ax.set_ylabel('Survived', fontdict=font)\n",
    "\n",
    "  \n",
    "plt.plot(X,y, 'ro', alpha=0.5)"
   ]
  },
  {
   "cell_type": "code",
   "execution_count": 28,
   "id": "d7c3f76d",
   "metadata": {
    "execution": {
     "iopub.execute_input": "2021-09-25T16:45:30.875759Z",
     "iopub.status.busy": "2021-09-25T16:45:30.874617Z",
     "iopub.status.idle": "2021-09-25T16:45:30.879312Z",
     "shell.execute_reply": "2021-09-25T16:45:30.878636Z",
     "shell.execute_reply.started": "2021-09-25T16:42:49.579804Z"
    },
    "papermill": {
     "duration": 0.112385,
     "end_time": "2021-09-25T16:45:30.879465",
     "exception": false,
     "start_time": "2021-09-25T16:45:30.767080",
     "status": "completed"
    },
    "tags": []
   },
   "outputs": [
    {
     "data": {
      "text/plain": [
       "PassengerId      0\n",
       "Pclass           0\n",
       "Name             0\n",
       "Sex              0\n",
       "Age             86\n",
       "SibSp            0\n",
       "Parch            0\n",
       "Ticket           0\n",
       "Fare             1\n",
       "Cabin          327\n",
       "Embarked         0\n",
       "Survived         0\n",
       "dtype: int64"
      ]
     },
     "execution_count": 28,
     "metadata": {},
     "output_type": "execute_result"
    }
   ],
   "source": [
    "df_test.isnull().sum()"
   ]
  },
  {
   "cell_type": "code",
   "execution_count": 29,
   "id": "d9507117",
   "metadata": {
    "execution": {
     "iopub.execute_input": "2021-09-25T16:45:31.084911Z",
     "iopub.status.busy": "2021-09-25T16:45:31.084069Z",
     "iopub.status.idle": "2021-09-25T16:45:31.088302Z",
     "shell.execute_reply": "2021-09-25T16:45:31.088841Z",
     "shell.execute_reply.started": "2021-09-25T16:42:49.595036Z"
    },
    "papermill": {
     "duration": 0.113624,
     "end_time": "2021-09-25T16:45:31.089033",
     "exception": false,
     "start_time": "2021-09-25T16:45:30.975409",
     "status": "completed"
    },
    "tags": []
   },
   "outputs": [
    {
     "data": {
      "text/plain": [
       "PassengerId     0.000000\n",
       "Pclass          0.000000\n",
       "Name            0.000000\n",
       "Sex             0.000000\n",
       "Age            20.574163\n",
       "SibSp           0.000000\n",
       "Parch           0.000000\n",
       "Ticket          0.000000\n",
       "Fare            0.239234\n",
       "Cabin          78.229665\n",
       "Embarked        0.000000\n",
       "Survived        0.000000\n",
       "dtype: float64"
      ]
     },
     "execution_count": 29,
     "metadata": {},
     "output_type": "execute_result"
    }
   ],
   "source": [
    "100*(df_test.isnull().sum()/len(df_test))"
   ]
  },
  {
   "cell_type": "code",
   "execution_count": 30,
   "id": "558d78d1",
   "metadata": {
    "execution": {
     "iopub.execute_input": "2021-09-25T16:45:31.289814Z",
     "iopub.status.busy": "2021-09-25T16:45:31.285817Z",
     "iopub.status.idle": "2021-09-25T16:45:31.294799Z",
     "shell.execute_reply": "2021-09-25T16:45:31.294114Z",
     "shell.execute_reply.started": "2021-09-25T16:42:49.616269Z"
    },
    "papermill": {
     "duration": 0.109633,
     "end_time": "2021-09-25T16:45:31.294968",
     "exception": false,
     "start_time": "2021-09-25T16:45:31.185335",
     "status": "completed"
    },
    "tags": []
   },
   "outputs": [
    {
     "data": {
      "text/plain": [
       "Fare      0.239234\n",
       "Age      20.574163\n",
       "Cabin    78.229665\n",
       "dtype: float64"
      ]
     },
     "execution_count": 30,
     "metadata": {},
     "output_type": "execute_result"
    }
   ],
   "source": [
    "nan_percent= missing_percent(df_test)\n",
    "nan_percent"
   ]
  },
  {
   "cell_type": "code",
   "execution_count": 31,
   "id": "5a599a73",
   "metadata": {
    "execution": {
     "iopub.execute_input": "2021-09-25T16:45:31.527927Z",
     "iopub.status.busy": "2021-09-25T16:45:31.523893Z",
     "iopub.status.idle": "2021-09-25T16:45:31.744325Z",
     "shell.execute_reply": "2021-09-25T16:45:31.745187Z",
     "shell.execute_reply.started": "2021-09-25T16:42:49.633973Z"
    },
    "papermill": {
     "duration": 0.355261,
     "end_time": "2021-09-25T16:45:31.745432",
     "exception": false,
     "start_time": "2021-09-25T16:45:31.390171",
     "status": "completed"
    },
    "tags": []
   },
   "outputs": [
    {
     "data": {
      "text/plain": [
       "(array([0, 1, 2]),\n",
       " [Text(0, 0, 'Fare'), Text(1, 0, 'Age'), Text(2, 0, 'Cabin')])"
      ]
     },
     "execution_count": 31,
     "metadata": {},
     "output_type": "execute_result"
    },
    {
     "data": {
      "image/png": "[encoded data removed]",
      "text/plain": [
       "<Figure size 864x432 with 1 Axes>"
      ]
     },
     "metadata": {},
     "output_type": "display_data"
    }
   ],
   "source": [
    "plt.figure(figsize=(12,6))\n",
    "sns.barplot(x=nan_percent.index, y=nan_percent)\n",
    "plt.xticks(rotation=90)"
   ]
  },
  {
   "cell_type": "code",
   "execution_count": 32,
   "id": "1c44da5c",
   "metadata": {
    "execution": {
     "iopub.execute_input": "2021-09-25T16:45:31.944228Z",
     "iopub.status.busy": "2021-09-25T16:45:31.943254Z",
     "iopub.status.idle": "2021-09-25T16:45:31.951577Z",
     "shell.execute_reply": "2021-09-25T16:45:31.950846Z",
     "shell.execute_reply.started": "2021-09-25T16:42:49.822670Z"
    },
    "papermill": {
     "duration": 0.10941,
     "end_time": "2021-09-25T16:45:31.951731",
     "exception": false,
     "start_time": "2021-09-25T16:45:31.842321",
     "status": "completed"
    },
    "tags": []
   },
   "outputs": [
    {
     "data": {
      "text/plain": [
       "Index(['Fare'], dtype='object')"
      ]
     },
     "execution_count": 32,
     "metadata": {},
     "output_type": "execute_result"
    }
   ],
   "source": [
    "nan_percent[nan_percent<1].index"
   ]
  },
  {
   "cell_type": "code",
   "execution_count": 33,
   "id": "b0afb15a",
   "metadata": {
    "execution": {
     "iopub.execute_input": "2021-09-25T16:45:32.172019Z",
     "iopub.status.busy": "2021-09-25T16:45:32.157245Z",
     "iopub.status.idle": "2021-09-25T16:45:32.176604Z",
     "shell.execute_reply": "2021-09-25T16:45:32.175878Z",
     "shell.execute_reply.started": "2021-09-25T16:42:49.835447Z"
    },
    "papermill": {
     "duration": 0.122786,
     "end_time": "2021-09-25T16:45:32.176767",
     "exception": false,
     "start_time": "2021-09-25T16:45:32.053981",
     "status": "completed"
    },
    "tags": []
   },
   "outputs": [
    {
     "data": {
      "text/html": [
       "<div>\n",
       "<style scoped>\n",
       "    .dataframe tbody tr th:only-of-type {\n",
       "        vertical-align: middle;\n",
       "    }\n",
       "\n",
       "    .dataframe tbody tr th {\n",
       "        vertical-align: top;\n",
       "    }\n",
       "\n",
       "    .dataframe thead th {\n",
       "        text-align: right;\n",
       "    }\n",
       "</style>\n",
       "<table border=\"1\" class=\"dataframe\">\n",
       "  <thead>\n",
       "    <tr style=\"text-align: right;\">\n",
       "      <th></th>\n",
       "      <th>PassengerId</th>\n",
       "      <th>Pclass</th>\n",
       "      <th>Name</th>\n",
       "      <th>Sex</th>\n",
       "      <th>Age</th>\n",
       "      <th>SibSp</th>\n",
       "      <th>Parch</th>\n",
       "      <th>Ticket</th>\n",
       "      <th>Fare</th>\n",
       "      <th>Cabin</th>\n",
       "      <th>Embarked</th>\n",
       "      <th>Survived</th>\n",
       "    </tr>\n",
       "  </thead>\n",
       "  <tbody>\n",
       "    <tr>\n",
       "      <th>152</th>\n",
       "      <td>1044</td>\n",
       "      <td>3</td>\n",
       "      <td>Storey, Mr. Thomas</td>\n",
       "      <td>male</td>\n",
       "      <td>60.5</td>\n",
       "      <td>0</td>\n",
       "      <td>0</td>\n",
       "      <td>3701</td>\n",
       "      <td>NaN</td>\n",
       "      <td>NaN</td>\n",
       "      <td>S</td>\n",
       "      <td>0</td>\n",
       "    </tr>\n",
       "  </tbody>\n",
       "</table>\n",
       "</div>"
      ],
      "text/plain": [
       "     PassengerId  Pclass                Name   Sex   Age  SibSp  Parch Ticket  \\\n",
       "152         1044       3  Storey, Mr. Thomas  male  60.5      0      0   3701   \n",
       "\n",
       "     Fare Cabin Embarked  Survived  \n",
       "152   NaN   NaN        S         0  "
      ]
     },
     "execution_count": 33,
     "metadata": {},
     "output_type": "execute_result"
    }
   ],
   "source": [
    "df_test[df_test['Fare'].isnull()]"
   ]
  },
  {
   "cell_type": "code",
   "execution_count": 34,
   "id": "df7c486d",
   "metadata": {
    "execution": {
     "iopub.execute_input": "2021-09-25T16:45:32.381734Z",
     "iopub.status.busy": "2021-09-25T16:45:32.381025Z",
     "iopub.status.idle": "2021-09-25T16:45:32.383821Z",
     "shell.execute_reply": "2021-09-25T16:45:32.383226Z",
     "shell.execute_reply.started": "2021-09-25T16:42:49.859636Z"
    },
    "papermill": {
     "duration": 0.10909,
     "end_time": "2021-09-25T16:45:32.383977",
     "exception": false,
     "start_time": "2021-09-25T16:45:32.274887",
     "status": "completed"
    },
    "tags": []
   },
   "outputs": [],
   "source": [
    "df_test= df_test.dropna(axis=0, subset=['Fare'])"
   ]
  },
  {
   "cell_type": "code",
   "execution_count": 35,
   "id": "91333045",
   "metadata": {
    "execution": {
     "iopub.execute_input": "2021-09-25T16:45:32.629441Z",
     "iopub.status.busy": "2021-09-25T16:45:32.586205Z",
     "iopub.status.idle": "2021-09-25T16:45:32.826032Z",
     "shell.execute_reply": "2021-09-25T16:45:32.825273Z",
     "shell.execute_reply.started": "2021-09-25T16:42:49.871475Z"
    },
    "papermill": {
     "duration": 0.343307,
     "end_time": "2021-09-25T16:45:32.826214",
     "exception": false,
     "start_time": "2021-09-25T16:45:32.482907",
     "status": "completed"
    },
    "tags": []
   },
   "outputs": [
    {
     "data": {
      "text/plain": [
       "(array([0, 1]), [Text(0, 0, 'Age'), Text(1, 0, 'Cabin')])"
      ]
     },
     "execution_count": 35,
     "metadata": {},
     "output_type": "execute_result"
    },
    {
     "data": {
      "image/png": "[encoded data removed]",
      "text/plain": [
       "<Figure size 864x432 with 1 Axes>"
      ]
     },
     "metadata": {},
     "output_type": "display_data"
    }
   ],
   "source": [
    "nan_percent= missing_percent(df_test)\n",
    "\n",
    "plt.figure(figsize=(12,6))\n",
    "sns.barplot(x=nan_percent.index, y=nan_percent)\n",
    "plt.xticks(rotation=90)\n"
   ]
  },
  {
   "cell_type": "code",
   "execution_count": 36,
   "id": "300ea933",
   "metadata": {
    "execution": {
     "iopub.execute_input": "2021-09-25T16:45:33.090721Z",
     "iopub.status.busy": "2021-09-25T16:45:33.089918Z",
     "iopub.status.idle": "2021-09-25T16:45:33.093150Z",
     "shell.execute_reply": "2021-09-25T16:45:33.093771Z",
     "shell.execute_reply.started": "2021-09-25T16:42:50.098850Z"
    },
    "papermill": {
     "duration": 0.113952,
     "end_time": "2021-09-25T16:45:33.093969",
     "exception": false,
     "start_time": "2021-09-25T16:45:32.980017",
     "status": "completed"
    },
    "tags": []
   },
   "outputs": [
    {
     "data": {
      "text/plain": [
       "PassengerId      0\n",
       "Pclass           0\n",
       "Name             0\n",
       "Sex              0\n",
       "Age              0\n",
       "SibSp            0\n",
       "Parch            0\n",
       "Ticket           0\n",
       "Fare             0\n",
       "Cabin          326\n",
       "Embarked         0\n",
       "Survived         0\n",
       "dtype: int64"
      ]
     },
     "execution_count": 36,
     "metadata": {},
     "output_type": "execute_result"
    }
   ],
   "source": [
    "df_test['Age'] = df_test['Age'].fillna(df_test['Age'].median())\n",
    "df_test.isnull().sum()"
   ]
  },
  {
   "cell_type": "code",
   "execution_count": 37,
   "id": "bb7d1384",
   "metadata": {
    "execution": {
     "iopub.execute_input": "2021-09-25T16:45:33.369858Z",
     "iopub.status.busy": "2021-09-25T16:45:33.338519Z",
     "iopub.status.idle": "2021-09-25T16:45:33.568252Z",
     "shell.execute_reply": "2021-09-25T16:45:33.568812Z",
     "shell.execute_reply.started": "2021-09-25T16:42:50.113998Z"
    },
    "papermill": {
     "duration": 0.347756,
     "end_time": "2021-09-25T16:45:33.569008",
     "exception": false,
     "start_time": "2021-09-25T16:45:33.221252",
     "status": "completed"
    },
    "tags": []
   },
   "outputs": [
    {
     "data": {
      "text/plain": [
       "(array([0]), [Text(0, 0, 'Cabin')])"
      ]
     },
     "execution_count": 37,
     "metadata": {},
     "output_type": "execute_result"
    },
    {
     "data": {
      "image/png": "[encoded data removed]",
      "text/plain": [
       "<Figure size 864x432 with 1 Axes>"
      ]
     },
     "metadata": {},
     "output_type": "display_data"
    }
   ],
   "source": [
    "nan_percent= missing_percent(df_test)\n",
    "\n",
    "plt.figure(figsize=(12,6))\n",
    "sns.barplot(x=nan_percent.index, y=nan_percent)\n",
    "plt.xticks(rotation=90)"
   ]
  },
  {
   "cell_type": "code",
   "execution_count": 38,
   "id": "c9c0c15b",
   "metadata": {
    "execution": {
     "iopub.execute_input": "2021-09-25T16:45:33.779645Z",
     "iopub.status.busy": "2021-09-25T16:45:33.778932Z",
     "iopub.status.idle": "2021-09-25T16:45:33.782372Z",
     "shell.execute_reply": "2021-09-25T16:45:33.781719Z",
     "shell.execute_reply.started": "2021-09-25T16:42:50.331859Z"
    },
    "papermill": {
     "duration": 0.111331,
     "end_time": "2021-09-25T16:45:33.782538",
     "exception": false,
     "start_time": "2021-09-25T16:45:33.671207",
     "status": "completed"
    },
    "tags": []
   },
   "outputs": [],
   "source": [
    "df_test=df_test.drop(['Cabin'], axis=1)"
   ]
  },
  {
   "cell_type": "code",
   "execution_count": 39,
   "id": "117e58f6",
   "metadata": {
    "execution": {
     "iopub.execute_input": "2021-09-25T16:45:33.993812Z",
     "iopub.status.busy": "2021-09-25T16:45:33.993036Z",
     "iopub.status.idle": "2021-09-25T16:45:33.996353Z",
     "shell.execute_reply": "2021-09-25T16:45:33.996967Z",
     "shell.execute_reply.started": "2021-09-25T16:42:50.342337Z"
    },
    "papermill": {
     "duration": 0.11619,
     "end_time": "2021-09-25T16:45:33.997197",
     "exception": false,
     "start_time": "2021-09-25T16:45:33.881007",
     "status": "completed"
    },
    "tags": []
   },
   "outputs": [
    {
     "data": {
      "text/plain": [
       "Series([], dtype: float64)"
      ]
     },
     "execution_count": 39,
     "metadata": {},
     "output_type": "execute_result"
    }
   ],
   "source": [
    "nan_percent= missing_percent(df_test)\n",
    "nan_percent"
   ]
  },
  {
   "cell_type": "code",
   "execution_count": 40,
   "id": "fbcf7a15",
   "metadata": {
    "execution": {
     "iopub.execute_input": "2021-09-25T16:45:34.211051Z",
     "iopub.status.busy": "2021-09-25T16:45:34.210180Z",
     "iopub.status.idle": "2021-09-25T16:45:34.217958Z",
     "shell.execute_reply": "2021-09-25T16:45:34.216892Z",
     "shell.execute_reply.started": "2021-09-25T16:42:50.357807Z"
    },
    "papermill": {
     "duration": 0.118389,
     "end_time": "2021-09-25T16:45:34.218182",
     "exception": false,
     "start_time": "2021-09-25T16:45:34.099793",
     "status": "completed"
    },
    "tags": []
   },
   "outputs": [],
   "source": [
    "df_train.drop(['Name','Ticket', 'PassengerId'], axis = 1, inplace=True)\n",
    "df_test.drop(['Name','Ticket', 'PassengerId'], axis = 1, inplace=True)"
   ]
  },
  {
   "cell_type": "markdown",
   "id": "02ca5431",
   "metadata": {
    "papermill": {
     "duration": 0.101354,
     "end_time": "2021-09-25T16:45:34.424015",
     "exception": false,
     "start_time": "2021-09-25T16:45:34.322661",
     "status": "completed"
    },
    "tags": []
   },
   "source": [
    "<div style=\"color:#D81F26;\n",
    "           display:fill;\n",
    "           border-radius:10px;\n",
    "           border-style: solid;\n",
    "           border-color:#7F7F7F;\n",
    "           background-color:#373737;\n",
    "           font-size:15px;\n",
    "           font-family:Verdana;\n",
    "           letter-spacing:0.5px\">\n",
    "<h1 style=\"padding: 15px;\n",
    "           color:#D81F26;\">\n",
    "Hint: Now, we don't have any Missing Data.\n",
    "</h1>\n",
    "</div>"
   ]
  },
  {
   "cell_type": "markdown",
   "id": "3fd8f22e",
   "metadata": {
    "papermill": {
     "duration": 0.10371,
     "end_time": "2021-09-25T16:45:34.631649",
     "exception": false,
     "start_time": "2021-09-25T16:45:34.527939",
     "status": "completed"
    },
    "tags": []
   },
   "source": [
    "<div style=\"color:#D81F26;\n",
    "           display:fill;\n",
    "           border-radius:30px;\n",
    "           border-style: solid;\n",
    "           border-color:#C1C1C1;\n",
    "           background-color:#373737;\n",
    "           font-size:30px;\n",
    "           font-family:Verdana;\n",
    "           letter-spacing:0.5px\">\n",
    "<h1 style=\"text-align: center;\n",
    "           padding: 15px;\n",
    "           color:#D81F26;\">\n",
    "Creating Dummy Variables\n",
    "</h1>\n",
    "</div>"
   ]
  },
  {
   "cell_type": "markdown",
   "id": "7f64716f",
   "metadata": {
    "papermill": {
     "duration": 0.099987,
     "end_time": "2021-09-25T16:45:34.832484",
     "exception": false,
     "start_time": "2021-09-25T16:45:34.732497",
     "status": "completed"
    },
    "tags": []
   },
   "source": [
    "<div style=\"color:#D81F26;\n",
    "           display:fill;\n",
    "           border-radius:10px;\n",
    "           border-style: solid;\n",
    "           border-color:#7F7F7F;\n",
    "           background-color:#373737;\n",
    "           font-size:15px;\n",
    "           font-family:Verdana;\n",
    "           letter-spacing:0.5px\">\n",
    "<h1 style=\"text-align: center;\n",
    "           padding: 15px;\n",
    "           color:#D81F26;\">\n",
    "Train set\n",
    "</h1>\n",
    "</div>"
   ]
  },
  {
   "cell_type": "code",
   "execution_count": 41,
   "id": "f1e2d352",
   "metadata": {
    "execution": {
     "iopub.execute_input": "2021-09-25T16:45:35.036616Z",
     "iopub.status.busy": "2021-09-25T16:45:35.035817Z",
     "iopub.status.idle": "2021-09-25T16:45:35.054780Z",
     "shell.execute_reply": "2021-09-25T16:45:35.055339Z",
     "shell.execute_reply.started": "2021-09-25T16:42:50.376303Z"
    },
    "papermill": {
     "duration": 0.122919,
     "end_time": "2021-09-25T16:45:35.055538",
     "exception": false,
     "start_time": "2021-09-25T16:45:34.932619",
     "status": "completed"
    },
    "tags": []
   },
   "outputs": [
    {
     "name": "stdout",
     "output_type": "stream",
     "text": [
      "<class 'pandas.core.frame.DataFrame'>\n",
      "Int64Index: 889 entries, 0 to 890\n",
      "Data columns (total 8 columns):\n",
      " #   Column    Non-Null Count  Dtype  \n",
      "---  ------    --------------  -----  \n",
      " 0   Survived  889 non-null    int64  \n",
      " 1   Pclass    889 non-null    int64  \n",
      " 2   Sex       889 non-null    object \n",
      " 3   Age       889 non-null    float64\n",
      " 4   SibSp     889 non-null    int64  \n",
      " 5   Parch     889 non-null    int64  \n",
      " 6   Fare      889 non-null    float64\n",
      " 7   Embarked  889 non-null    object \n",
      "dtypes: float64(2), int64(4), object(2)\n",
      "memory usage: 62.5+ KB\n"
     ]
    }
   ],
   "source": [
    "df_train.info()"
   ]
  },
  {
   "cell_type": "code",
   "execution_count": 42,
   "id": "d9f832c5",
   "metadata": {
    "execution": {
     "iopub.execute_input": "2021-09-25T16:45:35.263640Z",
     "iopub.status.busy": "2021-09-25T16:45:35.262885Z",
     "iopub.status.idle": "2021-09-25T16:45:35.268235Z",
     "shell.execute_reply": "2021-09-25T16:45:35.268991Z",
     "shell.execute_reply.started": "2021-09-25T16:42:50.403031Z"
    },
    "papermill": {
     "duration": 0.112154,
     "end_time": "2021-09-25T16:45:35.269215",
     "exception": false,
     "start_time": "2021-09-25T16:45:35.157061",
     "status": "completed"
    },
    "tags": []
   },
   "outputs": [
    {
     "data": {
      "text/plain": [
       "(889, 8)"
      ]
     },
     "execution_count": 42,
     "metadata": {},
     "output_type": "execute_result"
    }
   ],
   "source": [
    "df_train.shape"
   ]
  },
  {
   "cell_type": "code",
   "execution_count": 43,
   "id": "0553ae51",
   "metadata": {
    "execution": {
     "iopub.execute_input": "2021-09-25T16:45:35.476582Z",
     "iopub.status.busy": "2021-09-25T16:45:35.475815Z",
     "iopub.status.idle": "2021-09-25T16:45:35.481041Z",
     "shell.execute_reply": "2021-09-25T16:45:35.481663Z",
     "shell.execute_reply.started": "2021-09-25T16:42:50.412615Z"
    },
    "papermill": {
     "duration": 0.112267,
     "end_time": "2021-09-25T16:45:35.481853",
     "exception": false,
     "start_time": "2021-09-25T16:45:35.369586",
     "status": "completed"
    },
    "tags": []
   },
   "outputs": [],
   "source": [
    "df_train['Survived'] = df_train['Survived'].apply(str)"
   ]
  },
  {
   "cell_type": "code",
   "execution_count": 44,
   "id": "8f304245",
   "metadata": {
    "execution": {
     "iopub.execute_input": "2021-09-25T16:45:35.693128Z",
     "iopub.status.busy": "2021-09-25T16:45:35.692402Z",
     "iopub.status.idle": "2021-09-25T16:45:35.705259Z",
     "shell.execute_reply": "2021-09-25T16:45:35.705965Z",
     "shell.execute_reply.started": "2021-09-25T16:42:50.426981Z"
    },
    "papermill": {
     "duration": 0.11988,
     "end_time": "2021-09-25T16:45:35.706178",
     "exception": false,
     "start_time": "2021-09-25T16:45:35.586298",
     "status": "completed"
    },
    "tags": []
   },
   "outputs": [
    {
     "name": "stdout",
     "output_type": "stream",
     "text": [
      "<class 'pandas.core.frame.DataFrame'>\n",
      "Int64Index: 889 entries, 0 to 890\n",
      "Data columns (total 8 columns):\n",
      " #   Column    Non-Null Count  Dtype  \n",
      "---  ------    --------------  -----  \n",
      " 0   Survived  889 non-null    object \n",
      " 1   Pclass    889 non-null    int64  \n",
      " 2   Sex       889 non-null    object \n",
      " 3   Age       889 non-null    float64\n",
      " 4   SibSp     889 non-null    int64  \n",
      " 5   Parch     889 non-null    int64  \n",
      " 6   Fare      889 non-null    float64\n",
      " 7   Embarked  889 non-null    object \n",
      "dtypes: float64(2), int64(3), object(3)\n",
      "memory usage: 62.5+ KB\n"
     ]
    }
   ],
   "source": [
    "df_train.info()"
   ]
  },
  {
   "cell_type": "code",
   "execution_count": 45,
   "id": "54dbcb86",
   "metadata": {
    "execution": {
     "iopub.execute_input": "2021-09-25T16:45:35.916342Z",
     "iopub.status.busy": "2021-09-25T16:45:35.915580Z",
     "iopub.status.idle": "2021-09-25T16:45:35.922328Z",
     "shell.execute_reply": "2021-09-25T16:45:35.922881Z",
     "shell.execute_reply.started": "2021-09-25T16:42:50.454509Z"
    },
    "papermill": {
     "duration": 0.114114,
     "end_time": "2021-09-25T16:45:35.923079",
     "exception": false,
     "start_time": "2021-09-25T16:45:35.808965",
     "status": "completed"
    },
    "tags": []
   },
   "outputs": [],
   "source": [
    "df_train['Pclass'] = df_train['Pclass'].apply(str)"
   ]
  },
  {
   "cell_type": "code",
   "execution_count": 46,
   "id": "aa1b5b33",
   "metadata": {
    "execution": {
     "iopub.execute_input": "2021-09-25T16:45:36.144019Z",
     "iopub.status.busy": "2021-09-25T16:45:36.143306Z",
     "iopub.status.idle": "2021-09-25T16:45:36.148126Z",
     "shell.execute_reply": "2021-09-25T16:45:36.147518Z",
     "shell.execute_reply.started": "2021-09-25T16:42:50.463947Z"
    },
    "papermill": {
     "duration": 0.123989,
     "end_time": "2021-09-25T16:45:36.148279",
     "exception": false,
     "start_time": "2021-09-25T16:45:36.024290",
     "status": "completed"
    },
    "tags": []
   },
   "outputs": [
    {
     "name": "stdout",
     "output_type": "stream",
     "text": [
      "<class 'pandas.core.frame.DataFrame'>\n",
      "Int64Index: 889 entries, 0 to 890\n",
      "Data columns (total 8 columns):\n",
      " #   Column    Non-Null Count  Dtype  \n",
      "---  ------    --------------  -----  \n",
      " 0   Survived  889 non-null    object \n",
      " 1   Pclass    889 non-null    object \n",
      " 2   Sex       889 non-null    object \n",
      " 3   Age       889 non-null    float64\n",
      " 4   SibSp     889 non-null    int64  \n",
      " 5   Parch     889 non-null    int64  \n",
      " 6   Fare      889 non-null    float64\n",
      " 7   Embarked  889 non-null    object \n",
      "dtypes: float64(2), int64(2), object(4)\n",
      "memory usage: 62.5+ KB\n"
     ]
    }
   ],
   "source": [
    "df_train.info()"
   ]
  },
  {
   "cell_type": "code",
   "execution_count": 47,
   "id": "86cecffa",
   "metadata": {
    "execution": {
     "iopub.execute_input": "2021-09-25T16:45:36.359791Z",
     "iopub.status.busy": "2021-09-25T16:45:36.358995Z",
     "iopub.status.idle": "2021-09-25T16:45:36.365214Z",
     "shell.execute_reply": "2021-09-25T16:45:36.364635Z",
     "shell.execute_reply.started": "2021-09-25T16:42:50.489856Z"
    },
    "papermill": {
     "duration": 0.1137,
     "end_time": "2021-09-25T16:45:36.365382",
     "exception": false,
     "start_time": "2021-09-25T16:45:36.251682",
     "status": "completed"
    },
    "tags": []
   },
   "outputs": [],
   "source": [
    "df_train_num = df_train.select_dtypes(exclude='object')\n",
    "df_train_obj = df_train.select_dtypes(include='object')"
   ]
  },
  {
   "cell_type": "code",
   "execution_count": 48,
   "id": "a9a2ccbd",
   "metadata": {
    "execution": {
     "iopub.execute_input": "2021-09-25T16:45:36.583429Z",
     "iopub.status.busy": "2021-09-25T16:45:36.582655Z",
     "iopub.status.idle": "2021-09-25T16:45:36.595424Z",
     "shell.execute_reply": "2021-09-25T16:45:36.594343Z",
     "shell.execute_reply.started": "2021-09-25T16:42:50.505519Z"
    },
    "papermill": {
     "duration": 0.124354,
     "end_time": "2021-09-25T16:45:36.595656",
     "exception": false,
     "start_time": "2021-09-25T16:45:36.471302",
     "status": "completed"
    },
    "tags": []
   },
   "outputs": [
    {
     "name": "stderr",
     "output_type": "stream",
     "text": [
      "/opt/conda/lib/python3.7/site-packages/pandas/core/frame.py:4908: SettingWithCopyWarning: \n",
      "A value is trying to be set on a copy of a slice from a DataFrame\n",
      "\n",
      "See the caveats in the documentation: https://pandas.pydata.org/pandas-docs/stable/user_guide/indexing.html#returning-a-view-versus-a-copy\n",
      "  errors=errors,\n"
     ]
    }
   ],
   "source": [
    "df_train_obj.drop('Survived', axis = 1, inplace=True)"
   ]
  },
  {
   "cell_type": "code",
   "execution_count": 49,
   "id": "60413c57",
   "metadata": {
    "execution": {
     "iopub.execute_input": "2021-09-25T16:45:36.820185Z",
     "iopub.status.busy": "2021-09-25T16:45:36.819370Z",
     "iopub.status.idle": "2021-09-25T16:45:36.826413Z",
     "shell.execute_reply": "2021-09-25T16:45:36.825695Z",
     "shell.execute_reply.started": "2021-09-25T16:42:50.534330Z"
    },
    "papermill": {
     "duration": 0.122724,
     "end_time": "2021-09-25T16:45:36.826572",
     "exception": false,
     "start_time": "2021-09-25T16:45:36.703848",
     "status": "completed"
    },
    "tags": []
   },
   "outputs": [],
   "source": [
    "df_train_obj = pd.get_dummies(df_train_obj, drop_first=True)"
   ]
  },
  {
   "cell_type": "code",
   "execution_count": 50,
   "id": "ca09b567",
   "metadata": {
    "execution": {
     "iopub.execute_input": "2021-09-25T16:45:37.050055Z",
     "iopub.status.busy": "2021-09-25T16:45:37.048866Z",
     "iopub.status.idle": "2021-09-25T16:45:37.068167Z",
     "shell.execute_reply": "2021-09-25T16:45:37.067541Z",
     "shell.execute_reply.started": "2021-09-25T16:42:50.550212Z"
    },
    "papermill": {
     "duration": 0.13305,
     "end_time": "2021-09-25T16:45:37.068329",
     "exception": false,
     "start_time": "2021-09-25T16:45:36.935279",
     "status": "completed"
    },
    "tags": []
   },
   "outputs": [
    {
     "data": {
      "text/html": [
       "<div>\n",
       "<style scoped>\n",
       "    .dataframe tbody tr th:only-of-type {\n",
       "        vertical-align: middle;\n",
       "    }\n",
       "\n",
       "    .dataframe tbody tr th {\n",
       "        vertical-align: top;\n",
       "    }\n",
       "\n",
       "    .dataframe thead th {\n",
       "        text-align: right;\n",
       "    }\n",
       "</style>\n",
       "<table border=\"1\" class=\"dataframe\">\n",
       "  <thead>\n",
       "    <tr style=\"text-align: right;\">\n",
       "      <th></th>\n",
       "      <th>Age</th>\n",
       "      <th>SibSp</th>\n",
       "      <th>Parch</th>\n",
       "      <th>Fare</th>\n",
       "      <th>Pclass_2</th>\n",
       "      <th>Pclass_3</th>\n",
       "      <th>Sex_male</th>\n",
       "      <th>Embarked_Q</th>\n",
       "      <th>Embarked_S</th>\n",
       "      <th>Survived</th>\n",
       "    </tr>\n",
       "  </thead>\n",
       "  <tbody>\n",
       "    <tr>\n",
       "      <th>0</th>\n",
       "      <td>22.0</td>\n",
       "      <td>1</td>\n",
       "      <td>0</td>\n",
       "      <td>7.2500</td>\n",
       "      <td>0</td>\n",
       "      <td>1</td>\n",
       "      <td>1</td>\n",
       "      <td>0</td>\n",
       "      <td>1</td>\n",
       "      <td>0</td>\n",
       "    </tr>\n",
       "    <tr>\n",
       "      <th>1</th>\n",
       "      <td>38.0</td>\n",
       "      <td>1</td>\n",
       "      <td>0</td>\n",
       "      <td>71.2833</td>\n",
       "      <td>0</td>\n",
       "      <td>0</td>\n",
       "      <td>0</td>\n",
       "      <td>0</td>\n",
       "      <td>0</td>\n",
       "      <td>1</td>\n",
       "    </tr>\n",
       "    <tr>\n",
       "      <th>2</th>\n",
       "      <td>26.0</td>\n",
       "      <td>0</td>\n",
       "      <td>0</td>\n",
       "      <td>7.9250</td>\n",
       "      <td>0</td>\n",
       "      <td>1</td>\n",
       "      <td>0</td>\n",
       "      <td>0</td>\n",
       "      <td>1</td>\n",
       "      <td>1</td>\n",
       "    </tr>\n",
       "    <tr>\n",
       "      <th>3</th>\n",
       "      <td>35.0</td>\n",
       "      <td>1</td>\n",
       "      <td>0</td>\n",
       "      <td>53.1000</td>\n",
       "      <td>0</td>\n",
       "      <td>0</td>\n",
       "      <td>0</td>\n",
       "      <td>0</td>\n",
       "      <td>1</td>\n",
       "      <td>1</td>\n",
       "    </tr>\n",
       "    <tr>\n",
       "      <th>4</th>\n",
       "      <td>35.0</td>\n",
       "      <td>0</td>\n",
       "      <td>0</td>\n",
       "      <td>8.0500</td>\n",
       "      <td>0</td>\n",
       "      <td>1</td>\n",
       "      <td>1</td>\n",
       "      <td>0</td>\n",
       "      <td>1</td>\n",
       "      <td>0</td>\n",
       "    </tr>\n",
       "    <tr>\n",
       "      <th>...</th>\n",
       "      <td>...</td>\n",
       "      <td>...</td>\n",
       "      <td>...</td>\n",
       "      <td>...</td>\n",
       "      <td>...</td>\n",
       "      <td>...</td>\n",
       "      <td>...</td>\n",
       "      <td>...</td>\n",
       "      <td>...</td>\n",
       "      <td>...</td>\n",
       "    </tr>\n",
       "    <tr>\n",
       "      <th>886</th>\n",
       "      <td>27.0</td>\n",
       "      <td>0</td>\n",
       "      <td>0</td>\n",
       "      <td>13.0000</td>\n",
       "      <td>1</td>\n",
       "      <td>0</td>\n",
       "      <td>1</td>\n",
       "      <td>0</td>\n",
       "      <td>1</td>\n",
       "      <td>0</td>\n",
       "    </tr>\n",
       "    <tr>\n",
       "      <th>887</th>\n",
       "      <td>19.0</td>\n",
       "      <td>0</td>\n",
       "      <td>0</td>\n",
       "      <td>30.0000</td>\n",
       "      <td>0</td>\n",
       "      <td>0</td>\n",
       "      <td>0</td>\n",
       "      <td>0</td>\n",
       "      <td>1</td>\n",
       "      <td>1</td>\n",
       "    </tr>\n",
       "    <tr>\n",
       "      <th>888</th>\n",
       "      <td>28.0</td>\n",
       "      <td>1</td>\n",
       "      <td>2</td>\n",
       "      <td>23.4500</td>\n",
       "      <td>0</td>\n",
       "      <td>1</td>\n",
       "      <td>0</td>\n",
       "      <td>0</td>\n",
       "      <td>1</td>\n",
       "      <td>0</td>\n",
       "    </tr>\n",
       "    <tr>\n",
       "      <th>889</th>\n",
       "      <td>26.0</td>\n",
       "      <td>0</td>\n",
       "      <td>0</td>\n",
       "      <td>30.0000</td>\n",
       "      <td>0</td>\n",
       "      <td>0</td>\n",
       "      <td>1</td>\n",
       "      <td>0</td>\n",
       "      <td>0</td>\n",
       "      <td>1</td>\n",
       "    </tr>\n",
       "    <tr>\n",
       "      <th>890</th>\n",
       "      <td>32.0</td>\n",
       "      <td>0</td>\n",
       "      <td>0</td>\n",
       "      <td>7.7500</td>\n",
       "      <td>0</td>\n",
       "      <td>1</td>\n",
       "      <td>1</td>\n",
       "      <td>1</td>\n",
       "      <td>0</td>\n",
       "      <td>0</td>\n",
       "    </tr>\n",
       "  </tbody>\n",
       "</table>\n",
       "<p>889 rows × 10 columns</p>\n",
       "</div>"
      ],
      "text/plain": [
       "      Age  SibSp  Parch     Fare  Pclass_2  Pclass_3  Sex_male  Embarked_Q  \\\n",
       "0    22.0      1      0   7.2500         0         1         1           0   \n",
       "1    38.0      1      0  71.2833         0         0         0           0   \n",
       "2    26.0      0      0   7.9250         0         1         0           0   \n",
       "3    35.0      1      0  53.1000         0         0         0           0   \n",
       "4    35.0      0      0   8.0500         0         1         1           0   \n",
       "..    ...    ...    ...      ...       ...       ...       ...         ...   \n",
       "886  27.0      0      0  13.0000         1         0         1           0   \n",
       "887  19.0      0      0  30.0000         0         0         0           0   \n",
       "888  28.0      1      2  23.4500         0         1         0           0   \n",
       "889  26.0      0      0  30.0000         0         0         1           0   \n",
       "890  32.0      0      0   7.7500         0         1         1           1   \n",
       "\n",
       "     Embarked_S Survived  \n",
       "0             1        0  \n",
       "1             0        1  \n",
       "2             1        1  \n",
       "3             1        1  \n",
       "4             1        0  \n",
       "..          ...      ...  \n",
       "886           1        0  \n",
       "887           1        1  \n",
       "888           1        0  \n",
       "889           0        1  \n",
       "890           0        0  \n",
       "\n",
       "[889 rows x 10 columns]"
      ]
     },
     "execution_count": 50,
     "metadata": {},
     "output_type": "execute_result"
    }
   ],
   "source": [
    "Final_train_df = pd.concat([df_train_num, df_train_obj,df_train['Survived']], axis=1)\n",
    "\n",
    "Final_train_df"
   ]
  },
  {
   "cell_type": "code",
   "execution_count": 51,
   "id": "54849f2f",
   "metadata": {
    "execution": {
     "iopub.execute_input": "2021-09-25T16:45:37.284054Z",
     "iopub.status.busy": "2021-09-25T16:45:37.282957Z",
     "iopub.status.idle": "2021-09-25T16:45:37.286465Z",
     "shell.execute_reply": "2021-09-25T16:45:37.287030Z",
     "shell.execute_reply.started": "2021-09-25T16:42:50.577830Z"
    },
    "papermill": {
     "duration": 0.11451,
     "end_time": "2021-09-25T16:45:37.287232",
     "exception": false,
     "start_time": "2021-09-25T16:45:37.172722",
     "status": "completed"
    },
    "tags": []
   },
   "outputs": [
    {
     "data": {
      "text/plain": [
       "(889, 10)"
      ]
     },
     "execution_count": 51,
     "metadata": {},
     "output_type": "execute_result"
    }
   ],
   "source": [
    "Final_train_df.shape"
   ]
  },
  {
   "cell_type": "markdown",
   "id": "49351547",
   "metadata": {
    "papermill": {
     "duration": 0.102317,
     "end_time": "2021-09-25T16:45:37.495716",
     "exception": false,
     "start_time": "2021-09-25T16:45:37.393399",
     "status": "completed"
    },
    "tags": []
   },
   "source": [
    "<div style=\"color:#D81F26;\n",
    "           display:fill;\n",
    "           border-radius:10px;\n",
    "           border-style: solid;\n",
    "           border-color:#7F7F7F;\n",
    "           background-color:#373737;\n",
    "           font-size:15px;\n",
    "           font-family:Verdana;\n",
    "           letter-spacing:0.5px\">\n",
    "<h1 style=\"text-align: center;\n",
    "           padding: 15px;\n",
    "           color:#D81F26;\">\n",
    "Test set\n",
    "</h1>\n",
    "</div>"
   ]
  },
  {
   "cell_type": "code",
   "execution_count": 52,
   "id": "e0c2bd85",
   "metadata": {
    "execution": {
     "iopub.execute_input": "2021-09-25T16:45:37.721140Z",
     "iopub.status.busy": "2021-09-25T16:45:37.720385Z",
     "iopub.status.idle": "2021-09-25T16:45:37.724362Z",
     "shell.execute_reply": "2021-09-25T16:45:37.725258Z",
     "shell.execute_reply.started": "2021-09-25T16:42:50.587100Z"
    },
    "papermill": {
     "duration": 0.124264,
     "end_time": "2021-09-25T16:45:37.725533",
     "exception": false,
     "start_time": "2021-09-25T16:45:37.601269",
     "status": "completed"
    },
    "tags": []
   },
   "outputs": [
    {
     "name": "stdout",
     "output_type": "stream",
     "text": [
      "<class 'pandas.core.frame.DataFrame'>\n",
      "Int64Index: 417 entries, 0 to 417\n",
      "Data columns (total 8 columns):\n",
      " #   Column    Non-Null Count  Dtype  \n",
      "---  ------    --------------  -----  \n",
      " 0   Pclass    417 non-null    int64  \n",
      " 1   Sex       417 non-null    object \n",
      " 2   Age       417 non-null    float64\n",
      " 3   SibSp     417 non-null    int64  \n",
      " 4   Parch     417 non-null    int64  \n",
      " 5   Fare      417 non-null    float64\n",
      " 6   Embarked  417 non-null    object \n",
      " 7   Survived  417 non-null    int64  \n",
      "dtypes: float64(2), int64(4), object(2)\n",
      "memory usage: 29.3+ KB\n"
     ]
    }
   ],
   "source": [
    "df_test.info()"
   ]
  },
  {
   "cell_type": "code",
   "execution_count": 53,
   "id": "38ac4456",
   "metadata": {
    "execution": {
     "iopub.execute_input": "2021-09-25T16:45:37.939558Z",
     "iopub.status.busy": "2021-09-25T16:45:37.938553Z",
     "iopub.status.idle": "2021-09-25T16:45:37.943148Z",
     "shell.execute_reply": "2021-09-25T16:45:37.942402Z",
     "shell.execute_reply.started": "2021-09-25T16:42:50.611402Z"
    },
    "papermill": {
     "duration": 0.112419,
     "end_time": "2021-09-25T16:45:37.943307",
     "exception": false,
     "start_time": "2021-09-25T16:45:37.830888",
     "status": "completed"
    },
    "tags": []
   },
   "outputs": [
    {
     "data": {
      "text/plain": [
       "(417, 8)"
      ]
     },
     "execution_count": 53,
     "metadata": {},
     "output_type": "execute_result"
    }
   ],
   "source": [
    "df_test.shape"
   ]
  },
  {
   "cell_type": "code",
   "execution_count": 54,
   "id": "88190b32",
   "metadata": {
    "execution": {
     "iopub.execute_input": "2021-09-25T16:45:38.157549Z",
     "iopub.status.busy": "2021-09-25T16:45:38.156688Z",
     "iopub.status.idle": "2021-09-25T16:45:38.160878Z",
     "shell.execute_reply": "2021-09-25T16:45:38.160291Z",
     "shell.execute_reply.started": "2021-09-25T16:42:50.628512Z"
    },
    "papermill": {
     "duration": 0.113226,
     "end_time": "2021-09-25T16:45:38.161046",
     "exception": false,
     "start_time": "2021-09-25T16:45:38.047820",
     "status": "completed"
    },
    "tags": []
   },
   "outputs": [],
   "source": [
    "df_test['Survived'] = df_test['Survived'].apply(str)"
   ]
  },
  {
   "cell_type": "code",
   "execution_count": 55,
   "id": "76dda072",
   "metadata": {
    "execution": {
     "iopub.execute_input": "2021-09-25T16:45:38.388867Z",
     "iopub.status.busy": "2021-09-25T16:45:38.388015Z",
     "iopub.status.idle": "2021-09-25T16:45:38.391868Z",
     "shell.execute_reply": "2021-09-25T16:45:38.392456Z",
     "shell.execute_reply.started": "2021-09-25T16:42:50.640821Z"
    },
    "papermill": {
     "duration": 0.124583,
     "end_time": "2021-09-25T16:45:38.392643",
     "exception": false,
     "start_time": "2021-09-25T16:45:38.268060",
     "status": "completed"
    },
    "tags": []
   },
   "outputs": [
    {
     "name": "stdout",
     "output_type": "stream",
     "text": [
      "<class 'pandas.core.frame.DataFrame'>\n",
      "Int64Index: 417 entries, 0 to 417\n",
      "Data columns (total 8 columns):\n",
      " #   Column    Non-Null Count  Dtype  \n",
      "---  ------    --------------  -----  \n",
      " 0   Pclass    417 non-null    int64  \n",
      " 1   Sex       417 non-null    object \n",
      " 2   Age       417 non-null    float64\n",
      " 3   SibSp     417 non-null    int64  \n",
      " 4   Parch     417 non-null    int64  \n",
      " 5   Fare      417 non-null    float64\n",
      " 6   Embarked  417 non-null    object \n",
      " 7   Survived  417 non-null    object \n",
      "dtypes: float64(2), int64(3), object(3)\n",
      "memory usage: 29.3+ KB\n"
     ]
    }
   ],
   "source": [
    "df_test.info()"
   ]
  },
  {
   "cell_type": "code",
   "execution_count": 56,
   "id": "4e96a43d",
   "metadata": {
    "execution": {
     "iopub.execute_input": "2021-09-25T16:45:38.610282Z",
     "iopub.status.busy": "2021-09-25T16:45:38.609230Z",
     "iopub.status.idle": "2021-09-25T16:45:38.613309Z",
     "shell.execute_reply": "2021-09-25T16:45:38.612653Z",
     "shell.execute_reply.started": "2021-09-25T16:42:50.665229Z"
    },
    "papermill": {
     "duration": 0.116357,
     "end_time": "2021-09-25T16:45:38.613463",
     "exception": false,
     "start_time": "2021-09-25T16:45:38.497106",
     "status": "completed"
    },
    "tags": []
   },
   "outputs": [],
   "source": [
    "df_test['Pclass'] = df_test['Pclass'].apply(str)"
   ]
  },
  {
   "cell_type": "code",
   "execution_count": 57,
   "id": "14184a22",
   "metadata": {
    "execution": {
     "iopub.execute_input": "2021-09-25T16:45:38.836187Z",
     "iopub.status.busy": "2021-09-25T16:45:38.835241Z",
     "iopub.status.idle": "2021-09-25T16:45:38.839845Z",
     "shell.execute_reply": "2021-09-25T16:45:38.839138Z",
     "shell.execute_reply.started": "2021-09-25T16:42:50.674399Z"
    },
    "papermill": {
     "duration": 0.123141,
     "end_time": "2021-09-25T16:45:38.840000",
     "exception": false,
     "start_time": "2021-09-25T16:45:38.716859",
     "status": "completed"
    },
    "tags": []
   },
   "outputs": [
    {
     "name": "stdout",
     "output_type": "stream",
     "text": [
      "<class 'pandas.core.frame.DataFrame'>\n",
      "Int64Index: 417 entries, 0 to 417\n",
      "Data columns (total 8 columns):\n",
      " #   Column    Non-Null Count  Dtype  \n",
      "---  ------    --------------  -----  \n",
      " 0   Pclass    417 non-null    object \n",
      " 1   Sex       417 non-null    object \n",
      " 2   Age       417 non-null    float64\n",
      " 3   SibSp     417 non-null    int64  \n",
      " 4   Parch     417 non-null    int64  \n",
      " 5   Fare      417 non-null    float64\n",
      " 6   Embarked  417 non-null    object \n",
      " 7   Survived  417 non-null    object \n",
      "dtypes: float64(2), int64(2), object(4)\n",
      "memory usage: 29.3+ KB\n"
     ]
    }
   ],
   "source": [
    "df_test.info()"
   ]
  },
  {
   "cell_type": "code",
   "execution_count": 58,
   "id": "9c3de3b1",
   "metadata": {
    "execution": {
     "iopub.execute_input": "2021-09-25T16:45:39.067123Z",
     "iopub.status.busy": "2021-09-25T16:45:39.066360Z",
     "iopub.status.idle": "2021-09-25T16:45:39.069801Z",
     "shell.execute_reply": "2021-09-25T16:45:39.069176Z",
     "shell.execute_reply.started": "2021-09-25T16:42:50.696549Z"
    },
    "papermill": {
     "duration": 0.120361,
     "end_time": "2021-09-25T16:45:39.069978",
     "exception": false,
     "start_time": "2021-09-25T16:45:38.949617",
     "status": "completed"
    },
    "tags": []
   },
   "outputs": [],
   "source": [
    "df_test_num = df_test.select_dtypes(exclude='object')\n",
    "df_test_obj = df_test.select_dtypes(include='object')"
   ]
  },
  {
   "cell_type": "code",
   "execution_count": 59,
   "id": "aebcf106",
   "metadata": {
    "execution": {
     "iopub.execute_input": "2021-09-25T16:45:39.293896Z",
     "iopub.status.busy": "2021-09-25T16:45:39.292801Z",
     "iopub.status.idle": "2021-09-25T16:45:39.297796Z",
     "shell.execute_reply": "2021-09-25T16:45:39.297065Z",
     "shell.execute_reply.started": "2021-09-25T16:42:50.716757Z"
    },
    "papermill": {
     "duration": 0.119581,
     "end_time": "2021-09-25T16:45:39.297979",
     "exception": false,
     "start_time": "2021-09-25T16:45:39.178398",
     "status": "completed"
    },
    "tags": []
   },
   "outputs": [
    {
     "name": "stderr",
     "output_type": "stream",
     "text": [
      "/opt/conda/lib/python3.7/site-packages/pandas/core/frame.py:4908: SettingWithCopyWarning: \n",
      "A value is trying to be set on a copy of a slice from a DataFrame\n",
      "\n",
      "See the caveats in the documentation: https://pandas.pydata.org/pandas-docs/stable/user_guide/indexing.html#returning-a-view-versus-a-copy\n",
      "  errors=errors,\n"
     ]
    }
   ],
   "source": [
    "df_test_obj.drop('Survived', axis = 1, inplace=True)"
   ]
  },
  {
   "cell_type": "code",
   "execution_count": 60,
   "id": "35a44650",
   "metadata": {
    "execution": {
     "iopub.execute_input": "2021-09-25T16:45:39.528284Z",
     "iopub.status.busy": "2021-09-25T16:45:39.527533Z",
     "iopub.status.idle": "2021-09-25T16:45:39.531112Z",
     "shell.execute_reply": "2021-09-25T16:45:39.530384Z",
     "shell.execute_reply.started": "2021-09-25T16:42:50.730776Z"
    },
    "papermill": {
     "duration": 0.125391,
     "end_time": "2021-09-25T16:45:39.531272",
     "exception": false,
     "start_time": "2021-09-25T16:45:39.405881",
     "status": "completed"
    },
    "tags": []
   },
   "outputs": [],
   "source": [
    "df_test_obj = pd.get_dummies(df_test_obj, drop_first=True)"
   ]
  },
  {
   "cell_type": "code",
   "execution_count": 61,
   "id": "cd7fa64a",
   "metadata": {
    "execution": {
     "iopub.execute_input": "2021-09-25T16:45:39.755673Z",
     "iopub.status.busy": "2021-09-25T16:45:39.754930Z",
     "iopub.status.idle": "2021-09-25T16:45:39.757247Z",
     "shell.execute_reply": "2021-09-25T16:45:39.756523Z",
     "shell.execute_reply.started": "2021-09-25T16:42:50.751660Z"
    },
    "papermill": {
     "duration": 0.117063,
     "end_time": "2021-09-25T16:45:39.757408",
     "exception": false,
     "start_time": "2021-09-25T16:45:39.640345",
     "status": "completed"
    },
    "tags": []
   },
   "outputs": [],
   "source": [
    "Final_test_df = pd.concat([df_test_num, df_test_obj,df_test['Survived']], axis=1)"
   ]
  },
  {
   "cell_type": "code",
   "execution_count": 62,
   "id": "575b2abd",
   "metadata": {
    "execution": {
     "iopub.execute_input": "2021-09-25T16:45:39.982914Z",
     "iopub.status.busy": "2021-09-25T16:45:39.981871Z",
     "iopub.status.idle": "2021-09-25T16:45:39.985254Z",
     "shell.execute_reply": "2021-09-25T16:45:39.984595Z",
     "shell.execute_reply.started": "2021-09-25T16:42:50.767662Z"
    },
    "papermill": {
     "duration": 0.121494,
     "end_time": "2021-09-25T16:45:39.985417",
     "exception": false,
     "start_time": "2021-09-25T16:45:39.863923",
     "status": "completed"
    },
    "tags": []
   },
   "outputs": [],
   "source": [
    "X_train=Final_train_df.drop('Survived', axis = 1)\n",
    "y_train=Final_train_df['Survived']\n",
    "\n",
    "X_test=Final_test_df.drop('Survived', axis = 1)\n",
    "y_test = Final_test_df['Survived']"
   ]
  },
  {
   "cell_type": "code",
   "execution_count": 63,
   "id": "4c84c931",
   "metadata": {
    "execution": {
     "iopub.execute_input": "2021-09-25T16:45:40.210826Z",
     "iopub.status.busy": "2021-09-25T16:45:40.209934Z",
     "iopub.status.idle": "2021-09-25T16:45:40.214168Z",
     "shell.execute_reply": "2021-09-25T16:45:40.213582Z",
     "shell.execute_reply.started": "2021-09-25T16:42:50.785083Z"
    },
    "papermill": {
     "duration": 0.121507,
     "end_time": "2021-09-25T16:45:40.214325",
     "exception": false,
     "start_time": "2021-09-25T16:45:40.092818",
     "status": "completed"
    },
    "tags": []
   },
   "outputs": [
    {
     "data": {
      "text/plain": [
       "(889, 9)"
      ]
     },
     "execution_count": 63,
     "metadata": {},
     "output_type": "execute_result"
    }
   ],
   "source": [
    "X_train.shape"
   ]
  },
  {
   "cell_type": "code",
   "execution_count": 64,
   "id": "d470dc01",
   "metadata": {
    "execution": {
     "iopub.execute_input": "2021-09-25T16:45:40.430821Z",
     "iopub.status.busy": "2021-09-25T16:45:40.429854Z",
     "iopub.status.idle": "2021-09-25T16:45:40.434533Z",
     "shell.execute_reply": "2021-09-25T16:45:40.433796Z",
     "shell.execute_reply.started": "2021-09-25T16:42:50.794500Z"
    },
    "papermill": {
     "duration": 0.113151,
     "end_time": "2021-09-25T16:45:40.434704",
     "exception": false,
     "start_time": "2021-09-25T16:45:40.321553",
     "status": "completed"
    },
    "tags": []
   },
   "outputs": [
    {
     "data": {
      "text/plain": [
       "(417, 9)"
      ]
     },
     "execution_count": 64,
     "metadata": {},
     "output_type": "execute_result"
    }
   ],
   "source": [
    "X_test.shape"
   ]
  },
  {
   "cell_type": "markdown",
   "id": "9c5c04d3",
   "metadata": {
    "papermill": {
     "duration": 0.108733,
     "end_time": "2021-09-25T16:45:40.654140",
     "exception": false,
     "start_time": "2021-09-25T16:45:40.545407",
     "status": "completed"
    },
    "tags": []
   },
   "source": [
    "<div style=\"color:#D81F26;\n",
    "           display:fill;\n",
    "           border-radius:30px;\n",
    "           border-style: solid;\n",
    "           border-color:#C1C1C1;\n",
    "           background-color:#373737;\n",
    "           font-size:30px;\n",
    "           font-family:Verdana;\n",
    "           letter-spacing:0.5px\">\n",
    "<h1 style=\"text-align: center;\n",
    "           padding: 15px;\n",
    "           color:#D81F26;\">\n",
    "Scaling Data\n",
    "</h1>\n",
    "</div>"
   ]
  },
  {
   "cell_type": "code",
   "execution_count": 65,
   "id": "73d40800",
   "metadata": {
    "execution": {
     "iopub.execute_input": "2021-09-25T16:45:40.875416Z",
     "iopub.status.busy": "2021-09-25T16:45:40.874698Z",
     "iopub.status.idle": "2021-09-25T16:45:40.884974Z",
     "shell.execute_reply": "2021-09-25T16:45:40.884220Z",
     "shell.execute_reply.started": "2021-09-25T16:42:50.809822Z"
    },
    "papermill": {
     "duration": 0.122585,
     "end_time": "2021-09-25T16:45:40.885163",
     "exception": false,
     "start_time": "2021-09-25T16:45:40.762578",
     "status": "completed"
    },
    "tags": []
   },
   "outputs": [
    {
     "data": {
      "text/plain": [
       "StandardScaler()"
      ]
     },
     "execution_count": 65,
     "metadata": {},
     "output_type": "execute_result"
    }
   ],
   "source": [
    "scaler= StandardScaler()\n",
    "\n",
    "scaler.fit(X_train)"
   ]
  },
  {
   "cell_type": "markdown",
   "id": "f3aa70fb",
   "metadata": {
    "papermill": {
     "duration": 0.108551,
     "end_time": "2021-09-25T16:45:41.101460",
     "exception": false,
     "start_time": "2021-09-25T16:45:40.992909",
     "status": "completed"
    },
    "tags": []
   },
   "source": [
    "<div style=\"color:#D81F26;\n",
    "           display:fill;\n",
    "           border-radius:30px;\n",
    "           border-style: solid;\n",
    "           border-color:#C1C1C1;\n",
    "           background-color:#373737;\n",
    "           font-size:30px;\n",
    "           font-family:Verdana;\n",
    "           letter-spacing:0.5px\">\n",
    "<h1 style=\"text-align: center;\n",
    "           padding: 15px;\n",
    "           color:#D81F26;\">\n",
    "Build the model\n",
    "</h1>\n",
    "</div>"
   ]
  },
  {
   "cell_type": "markdown",
   "id": "087ea0fe",
   "metadata": {
    "papermill": {
     "duration": 0.106976,
     "end_time": "2021-09-25T16:45:41.316428",
     "exception": false,
     "start_time": "2021-09-25T16:45:41.209452",
     "status": "completed"
    },
    "tags": []
   },
   "source": [
    "<div style=\"color:#D81F26;\n",
    "           display:fill;\n",
    "           border-radius:10px;\n",
    "           border-style: solid;\n",
    "           border-color:#7F7F7F;\n",
    "           background-color:#373737;\n",
    "           font-size:15px;\n",
    "           font-family:Verdana;\n",
    "           letter-spacing:0.5px\">\n",
    "<h2 style=\"text-align: center;\n",
    "           padding: 15px;\n",
    "           color:#D81F26;\">\n",
    "Train\n",
    "</h2>\n",
    "</div>"
   ]
  },
  {
   "cell_type": "code",
   "execution_count": 66,
   "id": "4d0a64e3",
   "metadata": {
    "execution": {
     "iopub.execute_input": "2021-09-25T16:45:41.544915Z",
     "iopub.status.busy": "2021-09-25T16:45:41.544079Z",
     "iopub.status.idle": "2021-09-25T16:45:41.630174Z",
     "shell.execute_reply": "2021-09-25T16:45:41.629440Z",
     "shell.execute_reply.started": "2021-09-25T16:42:50.831117Z"
    },
    "papermill": {
     "duration": 0.205162,
     "end_time": "2021-09-25T16:45:41.630333",
     "exception": false,
     "start_time": "2021-09-25T16:45:41.425171",
     "status": "completed"
    },
    "tags": []
   },
   "outputs": [
    {
     "data": {
      "text/plain": [
       "LogisticRegression(max_iter=4000)"
      ]
     },
     "execution_count": 66,
     "metadata": {},
     "output_type": "execute_result"
    }
   ],
   "source": [
    "Logistic_model = LogisticRegression(max_iter=4000)\n",
    "\n",
    "Logistic_model.fit(X_train,y_train)"
   ]
  },
  {
   "cell_type": "markdown",
   "id": "06476cca",
   "metadata": {
    "papermill": {
     "duration": 0.107699,
     "end_time": "2021-09-25T16:45:41.845701",
     "exception": false,
     "start_time": "2021-09-25T16:45:41.738002",
     "status": "completed"
    },
    "tags": []
   },
   "source": [
    "<div style=\"color:#D81F26;\n",
    "           display:fill;\n",
    "           border-radius:10px;\n",
    "           border-style: solid;\n",
    "           border-color:#7F7F7F;\n",
    "           background-color:#373737;\n",
    "           font-size:15px;\n",
    "           font-family:Verdana;\n",
    "           letter-spacing:0.5px\">\n",
    "<h1 style=\"text-align: center;\n",
    "           padding: 15px;\n",
    "           color:#D81F26;\">\n",
    "Predict\n",
    "</h1>\n",
    "</div>"
   ]
  },
  {
   "cell_type": "code",
   "execution_count": 67,
   "id": "677e33b6",
   "metadata": {
    "execution": {
     "iopub.execute_input": "2021-09-25T16:45:42.066349Z",
     "iopub.status.busy": "2021-09-25T16:45:42.065465Z",
     "iopub.status.idle": "2021-09-25T16:45:42.068920Z",
     "shell.execute_reply": "2021-09-25T16:45:42.068156Z",
     "shell.execute_reply.started": "2021-09-25T16:42:50.914982Z"
    },
    "papermill": {
     "duration": 0.117081,
     "end_time": "2021-09-25T16:45:42.069081",
     "exception": false,
     "start_time": "2021-09-25T16:45:41.952000",
     "status": "completed"
    },
    "tags": []
   },
   "outputs": [],
   "source": [
    "y_pred = Logistic_model.predict(X_test)"
   ]
  },
  {
   "cell_type": "markdown",
   "id": "cb0fbade",
   "metadata": {
    "papermill": {
     "duration": 0.107519,
     "end_time": "2021-09-25T16:45:42.283725",
     "exception": false,
     "start_time": "2021-09-25T16:45:42.176206",
     "status": "completed"
    },
    "tags": []
   },
   "source": [
    "<div style=\"color:#D81F26;\n",
    "           display:fill;\n",
    "           border-radius:30px;\n",
    "           border-style: solid;\n",
    "           border-color:#C1C1C1;\n",
    "           background-color:#373737;\n",
    "           font-size:30px;\n",
    "           font-family:Verdana;\n",
    "           letter-spacing:0.5px\">\n",
    "<h1 style=\"text-align: center;\n",
    "           padding: 15px;\n",
    "           color:#D81F26;\">\n",
    "Evaluate model\n",
    "</h1>\n",
    "</div>"
   ]
  },
  {
   "cell_type": "code",
   "execution_count": 68,
   "id": "e105ed10",
   "metadata": {
    "execution": {
     "iopub.execute_input": "2021-09-25T16:45:42.512773Z",
     "iopub.status.busy": "2021-09-25T16:45:42.506337Z",
     "iopub.status.idle": "2021-09-25T16:45:42.517562Z",
     "shell.execute_reply": "2021-09-25T16:45:42.516965Z",
     "shell.execute_reply.started": "2021-09-25T16:42:50.925132Z"
    },
    "papermill": {
     "duration": 0.124421,
     "end_time": "2021-09-25T16:45:42.517723",
     "exception": false,
     "start_time": "2021-09-25T16:45:42.393302",
     "status": "completed"
    },
    "tags": []
   },
   "outputs": [
    {
     "data": {
      "text/plain": [
       "array([[253,  12],\n",
       "       [ 11, 141]])"
      ]
     },
     "execution_count": 68,
     "metadata": {},
     "output_type": "execute_result"
    }
   ],
   "source": [
    "confusion_matrix(y_test, y_pred)"
   ]
  },
  {
   "cell_type": "code",
   "execution_count": 69,
   "id": "d757d00e",
   "metadata": {
    "execution": {
     "iopub.execute_input": "2021-09-25T16:45:42.798344Z",
     "iopub.status.busy": "2021-09-25T16:45:42.768306Z",
     "iopub.status.idle": "2021-09-25T16:45:43.036150Z",
     "shell.execute_reply": "2021-09-25T16:45:43.036974Z",
     "shell.execute_reply.started": "2021-09-25T16:42:50.947318Z"
    },
    "papermill": {
     "duration": 0.410375,
     "end_time": "2021-09-25T16:45:43.037204",
     "exception": false,
     "start_time": "2021-09-25T16:45:42.626829",
     "status": "completed"
    },
    "tags": []
   },
   "outputs": [
    {
     "data": {
      "text/plain": [
       "<sklearn.metrics._plot.confusion_matrix.ConfusionMatrixDisplay at 0x7fb6dc72efd0>"
      ]
     },
     "execution_count": 69,
     "metadata": {},
     "output_type": "execute_result"
    },
    {
     "data": {
      "image/png": "[encoded data removed]",
      "text/plain": [
       "<Figure size 432x288 with 2 Axes>"
      ]
     },
     "metadata": {},
     "output_type": "display_data"
    }
   ],
   "source": [
    "plot_confusion_matrix(Logistic_model, X_test, y_test)"
   ]
  },
  {
   "cell_type": "markdown",
   "id": "dca341d2",
   "metadata": {
    "papermill": {
     "duration": 0.115406,
     "end_time": "2021-09-25T16:45:43.265965",
     "exception": false,
     "start_time": "2021-09-25T16:45:43.150559",
     "status": "completed"
    },
    "tags": []
   },
   "source": [
    "<div style=\"color:#D81F26;\n",
    "           display:fill;\n",
    "           border-radius:10px;\n",
    "           border-style: solid;\n",
    "           border-color:#7F7F7F;\n",
    "           background-color:#373737;\n",
    "           font-size:15px;\n",
    "           font-family:Verdana;\n",
    "           letter-spacing:0.5px\">\n",
    "<h1 style=\"text-align: center;\n",
    "           padding: 15px;\n",
    "           color:#D81F26;\">\n",
    "Accuracy\n",
    "</h1>\n",
    "</div>"
   ]
  },
  {
   "cell_type": "code",
   "execution_count": 70,
   "id": "f4f4e4d7",
   "metadata": {
    "execution": {
     "iopub.execute_input": "2021-09-25T16:45:43.490989Z",
     "iopub.status.busy": "2021-09-25T16:45:43.489674Z",
     "iopub.status.idle": "2021-09-25T16:45:43.497983Z",
     "shell.execute_reply": "2021-09-25T16:45:43.498735Z",
     "shell.execute_reply.started": "2021-09-25T16:42:51.220013Z"
    },
    "papermill": {
     "duration": 0.123239,
     "end_time": "2021-09-25T16:45:43.498920",
     "exception": false,
     "start_time": "2021-09-25T16:45:43.375681",
     "status": "completed"
    },
    "tags": []
   },
   "outputs": [
    {
     "data": {
      "text/plain": [
       "0.9448441247002398"
      ]
     },
     "execution_count": 70,
     "metadata": {},
     "output_type": "execute_result"
    }
   ],
   "source": [
    "accuracy_score(y_test, y_pred)"
   ]
  },
  {
   "cell_type": "markdown",
   "id": "a6e35d25",
   "metadata": {
    "papermill": {
     "duration": 0.11175,
     "end_time": "2021-09-25T16:45:43.723385",
     "exception": false,
     "start_time": "2021-09-25T16:45:43.611635",
     "status": "completed"
    },
    "tags": []
   },
   "source": [
    "<div style=\"color:#D81F26;\n",
    "           display:fill;\n",
    "           border-radius:10px;\n",
    "           border-style: solid;\n",
    "           border-color:#7F7F7F;\n",
    "           background-color:#373737;\n",
    "           font-size:15px;\n",
    "           font-family:Verdana;\n",
    "           letter-spacing:0.5px\">\n",
    "<h1 style=\"text-align: center;\n",
    "           padding: 15px;\n",
    "           color:#D81F26;\">\n",
    "Precision score\n",
    "</h1>\n",
    "</div>"
   ]
  },
  {
   "cell_type": "code",
   "execution_count": 71,
   "id": "cd89cc8c",
   "metadata": {
    "execution": {
     "iopub.execute_input": "2021-09-25T16:45:43.950952Z",
     "iopub.status.busy": "2021-09-25T16:45:43.949841Z",
     "iopub.status.idle": "2021-09-25T16:45:43.961522Z",
     "shell.execute_reply": "2021-09-25T16:45:43.962143Z",
     "shell.execute_reply.started": "2021-09-25T16:42:51.231964Z"
    },
    "papermill": {
     "duration": 0.129175,
     "end_time": "2021-09-25T16:45:43.962334",
     "exception": false,
     "start_time": "2021-09-25T16:45:43.833159",
     "status": "completed"
    },
    "tags": []
   },
   "outputs": [
    {
     "data": {
      "text/plain": [
       "0.9399509803921569"
      ]
     },
     "execution_count": 71,
     "metadata": {},
     "output_type": "execute_result"
    }
   ],
   "source": [
    "precision_score(y_test, y_pred,average='macro')"
   ]
  },
  {
   "cell_type": "markdown",
   "id": "19bca5cb",
   "metadata": {
    "papermill": {
     "duration": 0.126037,
     "end_time": "2021-09-25T16:45:44.199722",
     "exception": false,
     "start_time": "2021-09-25T16:45:44.073685",
     "status": "completed"
    },
    "tags": []
   },
   "source": [
    "<div style=\"color:#D81F26;\n",
    "           display:fill;\n",
    "           border-radius:10px;\n",
    "           border-style: solid;\n",
    "           border-color:#7F7F7F;\n",
    "           background-color:#373737;\n",
    "           font-size:15px;\n",
    "           font-family:Verdana;\n",
    "           letter-spacing:0.5px\">\n",
    "<h1 style=\"text-align: center;\n",
    "           padding: 15px;\n",
    "           color:#D81F26;\">\n",
    "Recall score\n",
    "</h1>\n",
    "</div>"
   ]
  },
  {
   "cell_type": "code",
   "execution_count": 72,
   "id": "eaa36d8a",
   "metadata": {
    "execution": {
     "iopub.execute_input": "2021-09-25T16:45:44.450195Z",
     "iopub.status.busy": "2021-09-25T16:45:44.444279Z",
     "iopub.status.idle": "2021-09-25T16:45:44.455137Z",
     "shell.execute_reply": "2021-09-25T16:45:44.454271Z",
     "shell.execute_reply.started": "2021-09-25T16:42:51.254187Z"
    },
    "papermill": {
     "duration": 0.130725,
     "end_time": "2021-09-25T16:45:44.455304",
     "exception": false,
     "start_time": "2021-09-25T16:45:44.324579",
     "status": "completed"
    },
    "tags": []
   },
   "outputs": [
    {
     "data": {
      "text/plain": [
       "0.941174280039722"
      ]
     },
     "execution_count": 72,
     "metadata": {},
     "output_type": "execute_result"
    }
   ],
   "source": [
    "recall_score(y_test, y_pred, average='macro')"
   ]
  },
  {
   "cell_type": "markdown",
   "id": "17cb3f19",
   "metadata": {
    "papermill": {
     "duration": 0.113968,
     "end_time": "2021-09-25T16:45:44.680870",
     "exception": false,
     "start_time": "2021-09-25T16:45:44.566902",
     "status": "completed"
    },
    "tags": []
   },
   "source": [
    "<div style=\"color:#D81F26;\n",
    "           display:fill;\n",
    "           border-radius:10px;\n",
    "           border-style: solid;\n",
    "           border-color:#7F7F7F;\n",
    "           background-color:#373737;\n",
    "           font-size:15px;\n",
    "           font-family:Verdana;\n",
    "           letter-spacing:0.5px\">\n",
    "<h2 style=\"text-align: center;\n",
    "           padding: 15px;\n",
    "           color:#D81F26;\">\n",
    "Curves & AUC\n",
    "</h2>\n",
    "</div>"
   ]
  },
  {
   "cell_type": "code",
   "execution_count": 73,
   "id": "c017b467",
   "metadata": {
    "execution": {
     "iopub.execute_input": "2021-09-25T16:45:44.953255Z",
     "iopub.status.busy": "2021-09-25T16:45:44.949803Z",
     "iopub.status.idle": "2021-09-25T16:45:45.192520Z",
     "shell.execute_reply": "2021-09-25T16:45:45.193070Z",
     "shell.execute_reply.started": "2021-09-25T16:42:51.271929Z"
    },
    "papermill": {
     "duration": 0.39816,
     "end_time": "2021-09-25T16:45:45.193290",
     "exception": false,
     "start_time": "2021-09-25T16:45:44.795130",
     "status": "completed"
    },
    "tags": []
   },
   "outputs": [
    {
     "data": {
      "text/plain": [
       "<sklearn.metrics._plot.precision_recall_curve.PrecisionRecallDisplay at 0x7fb6dc6be610>"
      ]
     },
     "execution_count": 73,
     "metadata": {},
     "output_type": "execute_result"
    },
    {
     "data": {
      "image/png": "[encoded data removed]",
      "text/plain": [
       "<Figure size 432x288 with 1 Axes>"
      ]
     },
     "metadata": {},
     "output_type": "display_data"
    }
   ],
   "source": [
    "plot_precision_recall_curve(Logistic_model, X_test, y_test)"
   ]
  },
  {
   "cell_type": "code",
   "execution_count": 74,
   "id": "2c9aab6b",
   "metadata": {
    "execution": {
     "iopub.execute_input": "2021-09-25T16:45:45.460961Z",
     "iopub.status.busy": "2021-09-25T16:45:45.460056Z",
     "iopub.status.idle": "2021-09-25T16:45:45.698232Z",
     "shell.execute_reply": "2021-09-25T16:45:45.697522Z",
     "shell.execute_reply.started": "2021-09-25T16:42:51.519617Z"
    },
    "papermill": {
     "duration": 0.392789,
     "end_time": "2021-09-25T16:45:45.698387",
     "exception": false,
     "start_time": "2021-09-25T16:45:45.305598",
     "status": "completed"
    },
    "tags": []
   },
   "outputs": [
    {
     "data": {
      "text/plain": [
       "<sklearn.metrics._plot.roc_curve.RocCurveDisplay at 0x7fb6dc6bebd0>"
      ]
     },
     "execution_count": 74,
     "metadata": {},
     "output_type": "execute_result"
    },
    {
     "data": {
      "image/png": "[encoded data removed]",
      "text/plain": [
       "<Figure size 432x288 with 1 Axes>"
      ]
     },
     "metadata": {},
     "output_type": "display_data"
    }
   ],
   "source": [
    "plot_roc_curve(Logistic_model, X_test, y_test)"
   ]
  },
  {
   "cell_type": "code",
   "execution_count": 75,
   "id": "73b1d7e3",
   "metadata": {
    "execution": {
     "iopub.execute_input": "2021-09-25T16:45:45.935827Z",
     "iopub.status.busy": "2021-09-25T16:45:45.935110Z",
     "iopub.status.idle": "2021-09-25T16:45:45.953916Z",
     "shell.execute_reply": "2021-09-25T16:45:45.953213Z",
     "shell.execute_reply.started": "2021-09-25T16:42:51.757601Z"
    },
    "papermill": {
     "duration": 0.142055,
     "end_time": "2021-09-25T16:45:45.954071",
     "exception": false,
     "start_time": "2021-09-25T16:45:45.812016",
     "status": "completed"
    },
    "tags": []
   },
   "outputs": [
    {
     "data": {
      "text/html": [
       "<div>\n",
       "<style scoped>\n",
       "    .dataframe tbody tr th:only-of-type {\n",
       "        vertical-align: middle;\n",
       "    }\n",
       "\n",
       "    .dataframe tbody tr th {\n",
       "        vertical-align: top;\n",
       "    }\n",
       "\n",
       "    .dataframe thead th {\n",
       "        text-align: right;\n",
       "    }\n",
       "</style>\n",
       "<table border=\"1\" class=\"dataframe\">\n",
       "  <thead>\n",
       "    <tr style=\"text-align: right;\">\n",
       "      <th></th>\n",
       "      <th></th>\n",
       "      <th>Value</th>\n",
       "    </tr>\n",
       "  </thead>\n",
       "  <tbody>\n",
       "    <tr>\n",
       "      <th>0</th>\n",
       "      <td>Accuracy</td>\n",
       "      <td>0.944844</td>\n",
       "    </tr>\n",
       "    <tr>\n",
       "      <th>1</th>\n",
       "      <td>precision</td>\n",
       "      <td>0.939951</td>\n",
       "    </tr>\n",
       "    <tr>\n",
       "      <th>2</th>\n",
       "      <td>recall</td>\n",
       "      <td>0.941174</td>\n",
       "    </tr>\n",
       "  </tbody>\n",
       "</table>\n",
       "</div>"
      ],
      "text/plain": [
       "                 Value\n",
       "0   Accuracy  0.944844\n",
       "1  precision  0.939951\n",
       "2     recall  0.941174"
      ]
     },
     "execution_count": 75,
     "metadata": {},
     "output_type": "execute_result"
    }
   ],
   "source": [
    "pd.DataFrame({ '':['Accuracy','precision','recall'],'Value': [accuracy_score(y_test, y_pred),\n",
    "                precision_score(y_test, y_pred,average='macro'),recall_score(y_test, y_pred, average='macro')]})"
   ]
  },
  {
   "cell_type": "markdown",
   "id": "a9bb0850",
   "metadata": {
    "papermill": {
     "duration": 0.113675,
     "end_time": "2021-09-25T16:45:46.181757",
     "exception": false,
     "start_time": "2021-09-25T16:45:46.068082",
     "status": "completed"
    },
    "tags": []
   },
   "source": [
    "<div style=\"color: #D81F26;\n",
    "           display:fill;\n",
    "           border-radius:0px;\n",
    "           border-style: solid;\n",
    "           border-color:#C1C1C1;\n",
    "           background-color:#373737 ;\n",
    "           font-size:30px;\n",
    "           font-family:Verdana;\n",
    "           letter-spacing:0.5px;\">\n",
    "<h1 style=\"text-align: center;\n",
    "           padding: 15px;\n",
    "           color:#D81F26;\">\n",
    "Finished!\n",
    "</h1>    \n",
    "<hr>\n",
    "\n",
    "<p style=\"color:white;\">If you liked this text or it was useful for you, please give me feedback (Upvoted & Comments).</p>"
   ]
  }
 ],
 "metadata": {
  "kernelspec": {
   "display_name": "Python 3",
   "language": "python",
   "name": "python3"
  },
  "language_info": {
   "codemirror_mode": {
    "name": "ipython",
    "version": 3
   },
   "file_extension": ".py",
   "mimetype": "text/x-python",
   "name": "python",
   "nbconvert_exporter": "python",
   "pygments_lexer": "ipython3",
   "version": "3.7.10"
  },
  "papermill": {
   "default_parameters": {},
   "duration": 36.01774,
   "end_time": "2021-09-25T16:45:47.567792",
   "environment_variables": {},
   "exception": null,
   "input_path": "__notebook__.ipynb",
   "output_path": "__notebook__.ipynb",
   "parameters": {},
   "start_time": "2021-09-25T16:45:11.550052",
   "version": "2.3.3"
  }
 },
 "nbformat": 4,
 "nbformat_minor": 5
}
